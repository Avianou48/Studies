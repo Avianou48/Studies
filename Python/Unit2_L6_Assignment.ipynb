{
  "nbformat": 4,
  "nbformat_minor": 0,
  "metadata": {
    "colab": {
      "name": "Unit2_L6_Assignment.ipynb",
      "provenance": [],
      "collapsed_sections": [],
      "authorship_tag": "ABX9TyNFJQbTNdVsapmK1/RVXX9g",
      "include_colab_link": true
    },
    "kernelspec": {
      "name": "python3",
      "display_name": "Python 3"
    },
    "language_info": {
      "name": "python"
    }
  },
  "cells": [
    {
      "cell_type": "markdown",
      "metadata": {
        "id": "view-in-github",
        "colab_type": "text"
      },
      "source": [
        "<a href=\"https://colab.research.google.com/github/robajo12/data_analytics_2/blob/main/Python/Unit2_L6_Assignment.ipynb\" target=\"_parent\"><img src=\"https://colab.research.google.com/assets/colab-badge.svg\" alt=\"Open In Colab\"/></a>"
      ]
    },
    {
      "cell_type": "code",
      "metadata": {
        "id": "g9IhUmTdQBCa"
      },
      "source": [
        ""
      ],
      "execution_count": null,
      "outputs": []
    },
    {
      "cell_type": "markdown",
      "metadata": {
        "id": "Vcjh9jXfQPrM"
      },
      "source": [
        "1/ Create a simple dictionary that stores 2 variables, for example: first and last name."
      ]
    },
    {
      "cell_type": "code",
      "metadata": {
        "id": "gyRVLlzRQSVK"
      },
      "source": [
        "person = {'firstname':'John', 'lastname':'Smith'}\n"
      ],
      "execution_count": 4,
      "outputs": []
    },
    {
      "cell_type": "markdown",
      "metadata": {
        "id": "AG34IcpWSGQ5"
      },
      "source": [
        "2/ Print out those variables stored in your previous dictionary. "
      ]
    },
    {
      "cell_type": "code",
      "metadata": {
        "colab": {
          "base_uri": "https://localhost:8080/"
        },
        "id": "vhJ212s9SKYU",
        "outputId": "15b6680e-0a9f-4cfb-c751-da899f10fd32"
      },
      "source": [
        "print(person['firstname'] + \" \" + (person['lastname']))"
      ],
      "execution_count": 5,
      "outputs": [
        {
          "output_type": "stream",
          "text": [
            "John Smith\n"
          ],
          "name": "stdout"
        }
      ]
    },
    {
      "cell_type": "markdown",
      "metadata": {
        "id": "nrGHgX1SSRtY"
      },
      "source": [
        "3/ Add a message to those variables on printing: for example: “Hello, firstname lastname!”"
      ]
    },
    {
      "cell_type": "code",
      "metadata": {
        "colab": {
          "base_uri": "https://localhost:8080/"
        },
        "id": "B-RCtOASST9Q",
        "outputId": "345895e4-6e5e-4d34-fd5e-0acad30f2449"
      },
      "source": [
        "print(\"Hello, \" + person['firstname'] + \" \" + (person['lastname']))"
      ],
      "execution_count": 6,
      "outputs": [
        {
          "output_type": "stream",
          "text": [
            "Hello, John Smith\n"
          ],
          "name": "stdout"
        }
      ]
    },
    {
      "cell_type": "markdown",
      "metadata": {
        "id": "yWXrhEl9SquI"
      },
      "source": [
        "4/ Create a dictionary that holds 2 key: value pairs:\n",
        "a.\tLook through your dictionary and print each pair,\n"
      ]
    },
    {
      "cell_type": "code",
      "metadata": {
        "colab": {
          "base_uri": "https://localhost:8080/"
        },
        "id": "lxprV7f9Sw2y",
        "outputId": "f8dacedf-7531-49d2-aa9e-1c74886d6279"
      },
      "source": [
        "sex = {'male':'M', 'female':'F'}\n",
        "for key,value in sex.items():\n",
        "    print (key + \"\\t:\" + value)"
      ],
      "execution_count": 7,
      "outputs": [
        {
          "output_type": "stream",
          "text": [
            "male\t:M\n",
            "female\t:F\n"
          ],
          "name": "stdout"
        }
      ]
    },
    {
      "cell_type": "markdown",
      "metadata": {
        "id": "hvICGEL0T9Ry"
      },
      "source": [
        "5/\tCreate a nested dictionary containing three dictionaries – these dictionaries could be anything (favorite pets, travel locations, etc.)\n",
        "a.\tLoop through the dictionaries and print a message for each.\n"
      ]
    },
    {
      "cell_type": "code",
      "metadata": {
        "colab": {
          "base_uri": "https://localhost:8080/"
        },
        "id": "6qb0Veh5UzAp",
        "outputId": "9e8fdb32-0dbd-40a5-a43a-6ec58dae4905"
      },
      "source": [
        "form = { 'My full name is ': {'Name':'John Smith'},\n",
        "         'You can join me at ': {'cell Phone': '(800) 123 3241'}, \n",
        "         'and I like ':{'sport':'soccer ball'}\n",
        "       }\n",
        "\n",
        "for keys, value  in form.items():\n",
        "   for key, val in value.items():\n",
        "     print (keys + val)\n",
        "  "
      ],
      "execution_count": 25,
      "outputs": [
        {
          "output_type": "stream",
          "text": [
            "My full name is John Smith\n",
            "You can join me at (800) 123 3241\n",
            "and I like soccer ball\n"
          ],
          "name": "stdout"
        }
      ]
    }
  ]
}