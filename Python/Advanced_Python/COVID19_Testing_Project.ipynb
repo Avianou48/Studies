{
  "nbformat": 4,
  "nbformat_minor": 0,
  "metadata": {
    "colab": {
      "name": "COVID19_DATA_ANALYSIS.ipynb",
      "provenance": [],
      "collapsed_sections": [],
      "include_colab_link": true
    },
    "kernelspec": {
      "name": "python3",
      "display_name": "Python 3"
    }
  },
  "cells": [
    {
      "cell_type": "markdown",
      "metadata": {
        "id": "view-in-github",
        "colab_type": "text"
      },
      "source": [
        "<a href=\"https://colab.research.google.com/github/robajo12/data_analytics_2/blob/main/Python/Advanced_Python/COVID19_Testing_Project.ipynb\" target=\"_parent\"><img src=\"https://colab.research.google.com/assets/colab-badge.svg\" alt=\"Open In Colab\"/></a>"
      ]
    },
    {
      "cell_type": "markdown",
      "metadata": {
        "id": "9jvXpX2bbIFF"
      },
      "source": [
        "# COVID 19 Testing Project"
      ]
    },
    {
      "cell_type": "markdown",
      "metadata": {
        "id": "RSvGZmxBa_Gk"
      },
      "source": [
        " Build a model to predict the number of positive Covid-19 cases among latino  people from a Covid-19 daily testing dataset.\n",
        "\n"
      ]
    },
    {
      "cell_type": "markdown",
      "metadata": {
        "id": "ji_HknaobZJh"
      },
      "source": [
        "# Environment Set up"
      ]
    },
    {
      "cell_type": "markdown",
      "metadata": {
        "id": "bNjD4CJ9aS2y"
      },
      "source": [
        "Importation of all required libraries needed for data analysis. "
      ]
    },
    {
      "cell_type": "code",
      "metadata": {
        "id": "k2f9bX3aiTDP"
      },
      "source": [
        "import pandas as pd\n",
        "import numpy as np\n",
        "import seaborn as sns\n",
        "import matplotlib.pyplot as plt\n",
        "from matplotlib import style"
      ],
      "execution_count": 162,
      "outputs": []
    },
    {
      "cell_type": "markdown",
      "metadata": {
        "id": "vgt8s61dbueM"
      },
      "source": [
        "# Data Acquisition"
      ]
    },
    {
      "cell_type": "markdown",
      "metadata": {
        "id": "CEc5pqrkbxcX"
      },
      "source": [
        "Collection of the dataset for data analysis purpose"
      ]
    },
    {
      "cell_type": "code",
      "metadata": {
        "id": "vgw9nO9Hm_SB"
      },
      "source": [
        "df = pd.read_csv('https://raw.githubusercontent.com/niteen11/data301_predictive_analytics_machine_learning/main/data/COVID-19_Daily_Testing.csv')"
      ],
      "execution_count": 2,
      "outputs": []
    },
    {
      "cell_type": "code",
      "metadata": {
        "id": "FEG9n2sI0Yxu",
        "colab": {
          "base_uri": "https://localhost:8080/",
          "height": 330
        },
        "outputId": "d2f95abf-1132-42c8-f260-c1f3d68aab4b"
      },
      "source": [
        "df.head()"
      ],
      "execution_count": 3,
      "outputs": [
        {
          "output_type": "execute_result",
          "data": {
            "text/html": [
              "<div>\n",
              "<style scoped>\n",
              "    .dataframe tbody tr th:only-of-type {\n",
              "        vertical-align: middle;\n",
              "    }\n",
              "\n",
              "    .dataframe tbody tr th {\n",
              "        vertical-align: top;\n",
              "    }\n",
              "\n",
              "    .dataframe thead th {\n",
              "        text-align: right;\n",
              "    }\n",
              "</style>\n",
              "<table border=\"1\" class=\"dataframe\">\n",
              "  <thead>\n",
              "    <tr style=\"text-align: right;\">\n",
              "      <th></th>\n",
              "      <th>Date</th>\n",
              "      <th>Day</th>\n",
              "      <th>Tests</th>\n",
              "      <th>Cases</th>\n",
              "      <th>People Not-Positive - Total</th>\n",
              "      <th>People Tested - Age 0-17</th>\n",
              "      <th>People Tested - Age 18-29</th>\n",
              "      <th>People Tested - Age 30-39</th>\n",
              "      <th>People Tested - Age 40-49</th>\n",
              "      <th>People Tested - Age 50-59</th>\n",
              "      <th>People Tested - Age 60-69</th>\n",
              "      <th>People Tested - Age 70-79</th>\n",
              "      <th>People Tested - Age 80+</th>\n",
              "      <th>People Tested - Age Unknown</th>\n",
              "      <th>People Tested - Female</th>\n",
              "      <th>People Tested - Male</th>\n",
              "      <th>People Tested - Gender Unknown</th>\n",
              "      <th>People Tested - Latinx</th>\n",
              "      <th>People Tested - Asian Non-Latinx</th>\n",
              "      <th>People Tested - Black Non-Latinx</th>\n",
              "      <th>People Tested - White Non-Latinx</th>\n",
              "      <th>People Tested - Other Race Non-Latinx</th>\n",
              "      <th>People Tested - Unknown Race/Ethnicity</th>\n",
              "      <th>People Positive - Age 0-17</th>\n",
              "      <th>People Positive - Age 18-29</th>\n",
              "      <th>People Positive - Age 30-30</th>\n",
              "      <th>People Positive - Age 40-49</th>\n",
              "      <th>People Positive - Age 50-59</th>\n",
              "      <th>People Positive - Age 60-69</th>\n",
              "      <th>People Positive - Age 70-79</th>\n",
              "      <th>People Positive - Age 80+</th>\n",
              "      <th>People Positive - Age Unknown</th>\n",
              "      <th>People Positive - Female</th>\n",
              "      <th>People Positive - Male</th>\n",
              "      <th>People Positive - Gender Unknown</th>\n",
              "      <th>People Positive - Latinx</th>\n",
              "      <th>People Positive - Asian Non-Latinx</th>\n",
              "      <th>People Positive - Black Non-Latinx</th>\n",
              "      <th>People Positive - White Non-Latinx</th>\n",
              "      <th>People Positive - Other Race Non-Latinx</th>\n",
              "      <th>People Positive - Unknown Race/Ethnicity</th>\n",
              "      <th>People Not-Positive - Age 0-17</th>\n",
              "      <th>People Not-Positive - Age 18-29</th>\n",
              "      <th>People Not-Positive - Age 30-39</th>\n",
              "      <th>People Not-Positive - Age 40-49</th>\n",
              "      <th>People Not-Positive - Age 50-59</th>\n",
              "      <th>People Not-Positive - Age 60-69</th>\n",
              "      <th>People Not-Positive - Age 70-79</th>\n",
              "      <th>People Not-Positive - Age 80+</th>\n",
              "      <th>People Not-Positive - Age Unknown</th>\n",
              "      <th>People Not-Positive - Female</th>\n",
              "      <th>People Not-Positive - Male</th>\n",
              "      <th>People Not-Positive - Gender Unknown</th>\n",
              "      <th>People Not-Positive - Latinx</th>\n",
              "      <th>People Not-Positive - Asian Non-Latinx</th>\n",
              "      <th>People Not-Positive - Black Non-Latinx</th>\n",
              "      <th>People Not-Positive - White Non-Latinx</th>\n",
              "      <th>People Not-Positive - Other Race Non-Latinx</th>\n",
              "      <th>People Not-Positive - Unknown Race/Ethnicity</th>\n",
              "    </tr>\n",
              "  </thead>\n",
              "  <tbody>\n",
              "    <tr>\n",
              "      <th>0</th>\n",
              "      <td>03-01-20</td>\n",
              "      <td>Sunday</td>\n",
              "      <td>1</td>\n",
              "      <td>0</td>\n",
              "      <td>1</td>\n",
              "      <td>0</td>\n",
              "      <td>0</td>\n",
              "      <td>1</td>\n",
              "      <td>0</td>\n",
              "      <td>0</td>\n",
              "      <td>0</td>\n",
              "      <td>0</td>\n",
              "      <td>0</td>\n",
              "      <td>0</td>\n",
              "      <td>0</td>\n",
              "      <td>1</td>\n",
              "      <td>0</td>\n",
              "      <td>0</td>\n",
              "      <td>0</td>\n",
              "      <td>0</td>\n",
              "      <td>1</td>\n",
              "      <td>0</td>\n",
              "      <td>0</td>\n",
              "      <td>0</td>\n",
              "      <td>0</td>\n",
              "      <td>0</td>\n",
              "      <td>0</td>\n",
              "      <td>0</td>\n",
              "      <td>0</td>\n",
              "      <td>0</td>\n",
              "      <td>0</td>\n",
              "      <td>0</td>\n",
              "      <td>0</td>\n",
              "      <td>0</td>\n",
              "      <td>0</td>\n",
              "      <td>0</td>\n",
              "      <td>0</td>\n",
              "      <td>0</td>\n",
              "      <td>0</td>\n",
              "      <td>0</td>\n",
              "      <td>0</td>\n",
              "      <td>0</td>\n",
              "      <td>0</td>\n",
              "      <td>1</td>\n",
              "      <td>0</td>\n",
              "      <td>0</td>\n",
              "      <td>0</td>\n",
              "      <td>0</td>\n",
              "      <td>0</td>\n",
              "      <td>0</td>\n",
              "      <td>0</td>\n",
              "      <td>1</td>\n",
              "      <td>0</td>\n",
              "      <td>0</td>\n",
              "      <td>0</td>\n",
              "      <td>0</td>\n",
              "      <td>1</td>\n",
              "      <td>0</td>\n",
              "      <td>0</td>\n",
              "    </tr>\n",
              "    <tr>\n",
              "      <th>1</th>\n",
              "      <td>05-02-20</td>\n",
              "      <td>Saturday</td>\n",
              "      <td>2,431</td>\n",
              "      <td>705</td>\n",
              "      <td>1,726</td>\n",
              "      <td>129</td>\n",
              "      <td>470</td>\n",
              "      <td>458</td>\n",
              "      <td>458</td>\n",
              "      <td>412</td>\n",
              "      <td>281</td>\n",
              "      <td>128</td>\n",
              "      <td>94</td>\n",
              "      <td>1</td>\n",
              "      <td>1,238</td>\n",
              "      <td>1,158</td>\n",
              "      <td>35</td>\n",
              "      <td>569</td>\n",
              "      <td>39</td>\n",
              "      <td>376</td>\n",
              "      <td>276</td>\n",
              "      <td>73</td>\n",
              "      <td>1,098</td>\n",
              "      <td>24</td>\n",
              "      <td>141</td>\n",
              "      <td>120</td>\n",
              "      <td>152</td>\n",
              "      <td>137</td>\n",
              "      <td>76</td>\n",
              "      <td>39</td>\n",
              "      <td>16</td>\n",
              "      <td>0</td>\n",
              "      <td>340</td>\n",
              "      <td>361</td>\n",
              "      <td>4</td>\n",
              "      <td>343</td>\n",
              "      <td>9</td>\n",
              "      <td>103</td>\n",
              "      <td>51</td>\n",
              "      <td>22</td>\n",
              "      <td>177</td>\n",
              "      <td>105</td>\n",
              "      <td>329</td>\n",
              "      <td>338</td>\n",
              "      <td>306</td>\n",
              "      <td>275</td>\n",
              "      <td>205</td>\n",
              "      <td>89</td>\n",
              "      <td>78</td>\n",
              "      <td>1</td>\n",
              "      <td>898</td>\n",
              "      <td>797</td>\n",
              "      <td>31</td>\n",
              "      <td>226</td>\n",
              "      <td>30</td>\n",
              "      <td>273</td>\n",
              "      <td>225</td>\n",
              "      <td>51</td>\n",
              "      <td>921</td>\n",
              "    </tr>\n",
              "    <tr>\n",
              "      <th>2</th>\n",
              "      <td>05/14/2020</td>\n",
              "      <td>Thursday</td>\n",
              "      <td>4,098</td>\n",
              "      <td>772</td>\n",
              "      <td>3,326</td>\n",
              "      <td>260</td>\n",
              "      <td>805</td>\n",
              "      <td>833</td>\n",
              "      <td>685</td>\n",
              "      <td>604</td>\n",
              "      <td>471</td>\n",
              "      <td>253</td>\n",
              "      <td>171</td>\n",
              "      <td>16</td>\n",
              "      <td>2,049</td>\n",
              "      <td>1,786</td>\n",
              "      <td>263</td>\n",
              "      <td>848</td>\n",
              "      <td>55</td>\n",
              "      <td>581</td>\n",
              "      <td>510</td>\n",
              "      <td>144</td>\n",
              "      <td>1,960</td>\n",
              "      <td>48</td>\n",
              "      <td>167</td>\n",
              "      <td>153</td>\n",
              "      <td>131</td>\n",
              "      <td>107</td>\n",
              "      <td>95</td>\n",
              "      <td>42</td>\n",
              "      <td>29</td>\n",
              "      <td>0</td>\n",
              "      <td>395</td>\n",
              "      <td>362</td>\n",
              "      <td>15</td>\n",
              "      <td>319</td>\n",
              "      <td>12</td>\n",
              "      <td>151</td>\n",
              "      <td>68</td>\n",
              "      <td>35</td>\n",
              "      <td>187</td>\n",
              "      <td>212</td>\n",
              "      <td>638</td>\n",
              "      <td>680</td>\n",
              "      <td>554</td>\n",
              "      <td>497</td>\n",
              "      <td>376</td>\n",
              "      <td>211</td>\n",
              "      <td>142</td>\n",
              "      <td>16</td>\n",
              "      <td>1,654</td>\n",
              "      <td>1,424</td>\n",
              "      <td>248</td>\n",
              "      <td>529</td>\n",
              "      <td>43</td>\n",
              "      <td>430</td>\n",
              "      <td>442</td>\n",
              "      <td>109</td>\n",
              "      <td>1,773</td>\n",
              "    </tr>\n",
              "    <tr>\n",
              "      <th>3</th>\n",
              "      <td>03-05-20</td>\n",
              "      <td>Thursday</td>\n",
              "      <td>17</td>\n",
              "      <td>1</td>\n",
              "      <td>16</td>\n",
              "      <td>4</td>\n",
              "      <td>2</td>\n",
              "      <td>0</td>\n",
              "      <td>4</td>\n",
              "      <td>3</td>\n",
              "      <td>2</td>\n",
              "      <td>0</td>\n",
              "      <td>2</td>\n",
              "      <td>0</td>\n",
              "      <td>8</td>\n",
              "      <td>9</td>\n",
              "      <td>0</td>\n",
              "      <td>2</td>\n",
              "      <td>0</td>\n",
              "      <td>5</td>\n",
              "      <td>2</td>\n",
              "      <td>1</td>\n",
              "      <td>7</td>\n",
              "      <td>0</td>\n",
              "      <td>0</td>\n",
              "      <td>0</td>\n",
              "      <td>0</td>\n",
              "      <td>1</td>\n",
              "      <td>0</td>\n",
              "      <td>0</td>\n",
              "      <td>0</td>\n",
              "      <td>0</td>\n",
              "      <td>1</td>\n",
              "      <td>0</td>\n",
              "      <td>0</td>\n",
              "      <td>0</td>\n",
              "      <td>0</td>\n",
              "      <td>1</td>\n",
              "      <td>0</td>\n",
              "      <td>0</td>\n",
              "      <td>0</td>\n",
              "      <td>4</td>\n",
              "      <td>2</td>\n",
              "      <td>0</td>\n",
              "      <td>4</td>\n",
              "      <td>2</td>\n",
              "      <td>2</td>\n",
              "      <td>0</td>\n",
              "      <td>2</td>\n",
              "      <td>0</td>\n",
              "      <td>7</td>\n",
              "      <td>9</td>\n",
              "      <td>0</td>\n",
              "      <td>2</td>\n",
              "      <td>0</td>\n",
              "      <td>4</td>\n",
              "      <td>2</td>\n",
              "      <td>1</td>\n",
              "      <td>7</td>\n",
              "    </tr>\n",
              "    <tr>\n",
              "      <th>4</th>\n",
              "      <td>03-06-20</td>\n",
              "      <td>Friday</td>\n",
              "      <td>18</td>\n",
              "      <td>3</td>\n",
              "      <td>15</td>\n",
              "      <td>1</td>\n",
              "      <td>5</td>\n",
              "      <td>1</td>\n",
              "      <td>3</td>\n",
              "      <td>3</td>\n",
              "      <td>2</td>\n",
              "      <td>2</td>\n",
              "      <td>0</td>\n",
              "      <td>1</td>\n",
              "      <td>8</td>\n",
              "      <td>10</td>\n",
              "      <td>0</td>\n",
              "      <td>2</td>\n",
              "      <td>0</td>\n",
              "      <td>1</td>\n",
              "      <td>5</td>\n",
              "      <td>1</td>\n",
              "      <td>9</td>\n",
              "      <td>0</td>\n",
              "      <td>0</td>\n",
              "      <td>0</td>\n",
              "      <td>2</td>\n",
              "      <td>0</td>\n",
              "      <td>1</td>\n",
              "      <td>0</td>\n",
              "      <td>0</td>\n",
              "      <td>0</td>\n",
              "      <td>0</td>\n",
              "      <td>3</td>\n",
              "      <td>0</td>\n",
              "      <td>0</td>\n",
              "      <td>0</td>\n",
              "      <td>0</td>\n",
              "      <td>3</td>\n",
              "      <td>0</td>\n",
              "      <td>0</td>\n",
              "      <td>1</td>\n",
              "      <td>5</td>\n",
              "      <td>1</td>\n",
              "      <td>1</td>\n",
              "      <td>3</td>\n",
              "      <td>1</td>\n",
              "      <td>2</td>\n",
              "      <td>0</td>\n",
              "      <td>1</td>\n",
              "      <td>8</td>\n",
              "      <td>7</td>\n",
              "      <td>0</td>\n",
              "      <td>2</td>\n",
              "      <td>0</td>\n",
              "      <td>1</td>\n",
              "      <td>2</td>\n",
              "      <td>1</td>\n",
              "      <td>9</td>\n",
              "    </tr>\n",
              "  </tbody>\n",
              "</table>\n",
              "</div>"
            ],
            "text/plain": [
              "         Date  ... People Not-Positive - Unknown Race/Ethnicity\n",
              "0    03-01-20  ...                                            0\n",
              "1    05-02-20  ...                                          921\n",
              "2  05/14/2020  ...                                        1,773\n",
              "3    03-05-20  ...                                            7\n",
              "4    03-06-20  ...                                            9\n",
              "\n",
              "[5 rows x 59 columns]"
            ]
          },
          "metadata": {},
          "execution_count": 3
        }
      ]
    },
    {
      "cell_type": "code",
      "metadata": {
        "id": "ap0owuu30bLe",
        "colab": {
          "base_uri": "https://localhost:8080/"
        },
        "outputId": "20b3afdc-cdd1-4b20-d157-11a62613f7c4"
      },
      "source": [
        "df.shape"
      ],
      "execution_count": 4,
      "outputs": [
        {
          "output_type": "execute_result",
          "data": {
            "text/plain": [
              "(89, 59)"
            ]
          },
          "metadata": {},
          "execution_count": 4
        }
      ]
    },
    {
      "cell_type": "code",
      "metadata": {
        "id": "zZdaTiUk0fqE",
        "colab": {
          "base_uri": "https://localhost:8080/"
        },
        "outputId": "e715c4c2-53b2-446b-979b-07ca74943d7c"
      },
      "source": [
        "df.columns"
      ],
      "execution_count": 5,
      "outputs": [
        {
          "output_type": "execute_result",
          "data": {
            "text/plain": [
              "Index(['Date', 'Day', 'Tests', 'Cases', 'People Not-Positive - Total',\n",
              "       'People Tested - Age 0-17', 'People Tested - Age 18-29',\n",
              "       'People Tested - Age 30-39', 'People Tested - Age 40-49',\n",
              "       'People Tested - Age 50-59', 'People Tested - Age 60-69',\n",
              "       'People Tested - Age 70-79', 'People Tested - Age 80+',\n",
              "       'People Tested - Age Unknown', 'People Tested - Female',\n",
              "       'People Tested - Male', 'People Tested - Gender Unknown',\n",
              "       'People Tested - Latinx', 'People Tested - Asian Non-Latinx',\n",
              "       'People Tested - Black Non-Latinx', 'People Tested - White Non-Latinx',\n",
              "       'People Tested - Other Race Non-Latinx',\n",
              "       'People Tested - Unknown Race/Ethnicity', 'People Positive - Age 0-17',\n",
              "       'People Positive - Age 18-29', 'People Positive - Age 30-30',\n",
              "       'People Positive - Age 40-49', 'People Positive - Age 50-59',\n",
              "       'People Positive - Age 60-69', 'People Positive - Age 70-79',\n",
              "       'People Positive - Age 80+', 'People Positive - Age Unknown',\n",
              "       'People Positive - Female', 'People Positive - Male',\n",
              "       'People Positive - Gender Unknown', 'People Positive - Latinx',\n",
              "       'People Positive - Asian Non-Latinx',\n",
              "       'People Positive - Black Non-Latinx',\n",
              "       'People Positive - White Non-Latinx',\n",
              "       'People Positive - Other Race Non-Latinx',\n",
              "       'People Positive - Unknown Race/Ethnicity',\n",
              "       'People Not-Positive - Age 0-17', 'People Not-Positive - Age 18-29',\n",
              "       'People Not-Positive - Age 30-39', 'People Not-Positive - Age 40-49',\n",
              "       'People Not-Positive - Age 50-59', 'People Not-Positive - Age 60-69',\n",
              "       'People Not-Positive - Age 70-79', 'People Not-Positive - Age 80+',\n",
              "       'People Not-Positive - Age Unknown', 'People Not-Positive - Female',\n",
              "       'People Not-Positive - Male', 'People Not-Positive - Gender Unknown',\n",
              "       'People Not-Positive - Latinx',\n",
              "       'People Not-Positive - Asian Non-Latinx',\n",
              "       'People Not-Positive - Black Non-Latinx',\n",
              "       'People Not-Positive - White Non-Latinx',\n",
              "       'People Not-Positive - Other Race Non-Latinx',\n",
              "       'People Not-Positive - Unknown Race/Ethnicity'],\n",
              "      dtype='object')"
            ]
          },
          "metadata": {},
          "execution_count": 5
        }
      ]
    },
    {
      "cell_type": "markdown",
      "metadata": {
        "id": "dXToiyPccf4h"
      },
      "source": [
        "# Data Wrangling and EDA \n"
      ]
    },
    {
      "cell_type": "code",
      "metadata": {
        "id": "-IXvRlig1Qjq",
        "colab": {
          "base_uri": "https://localhost:8080/"
        },
        "outputId": "b5a9c903-3839-4fb0-87ff-bc9a703dd71b"
      },
      "source": [
        "# check if there is any missing values\n",
        "df.isnull().sum()"
      ],
      "execution_count": 6,
      "outputs": [
        {
          "output_type": "execute_result",
          "data": {
            "text/plain": [
              "Date                                            1\n",
              "Day                                             1\n",
              "Tests                                           0\n",
              "Cases                                           0\n",
              "People Not-Positive - Total                     0\n",
              "People Tested - Age 0-17                        0\n",
              "People Tested - Age 18-29                       0\n",
              "People Tested - Age 30-39                       0\n",
              "People Tested - Age 40-49                       0\n",
              "People Tested - Age 50-59                       0\n",
              "People Tested - Age 60-69                       0\n",
              "People Tested - Age 70-79                       0\n",
              "People Tested - Age 80+                         0\n",
              "People Tested - Age Unknown                     0\n",
              "People Tested - Female                          0\n",
              "People Tested - Male                            0\n",
              "People Tested - Gender Unknown                  0\n",
              "People Tested - Latinx                          0\n",
              "People Tested - Asian Non-Latinx                0\n",
              "People Tested - Black Non-Latinx                0\n",
              "People Tested - White Non-Latinx                0\n",
              "People Tested - Other Race Non-Latinx           0\n",
              "People Tested - Unknown Race/Ethnicity          0\n",
              "People Positive - Age 0-17                      0\n",
              "People Positive - Age 18-29                     0\n",
              "People Positive - Age 30-30                     0\n",
              "People Positive - Age 40-49                     0\n",
              "People Positive - Age 50-59                     0\n",
              "People Positive - Age 60-69                     0\n",
              "People Positive - Age 70-79                     0\n",
              "People Positive - Age 80+                       0\n",
              "People Positive - Age Unknown                   0\n",
              "People Positive - Female                        0\n",
              "People Positive - Male                          0\n",
              "People Positive - Gender Unknown                0\n",
              "People Positive - Latinx                        0\n",
              "People Positive - Asian Non-Latinx              0\n",
              "People Positive - Black Non-Latinx              0\n",
              "People Positive - White Non-Latinx              0\n",
              "People Positive - Other Race Non-Latinx         0\n",
              "People Positive - Unknown Race/Ethnicity        0\n",
              "People Not-Positive - Age 0-17                  0\n",
              "People Not-Positive - Age 18-29                 0\n",
              "People Not-Positive - Age 30-39                 0\n",
              "People Not-Positive - Age 40-49                 0\n",
              "People Not-Positive - Age 50-59                 0\n",
              "People Not-Positive - Age 60-69                 0\n",
              "People Not-Positive - Age 70-79                 0\n",
              "People Not-Positive - Age 80+                   0\n",
              "People Not-Positive - Age Unknown               0\n",
              "People Not-Positive - Female                    0\n",
              "People Not-Positive - Male                      0\n",
              "People Not-Positive - Gender Unknown            0\n",
              "People Not-Positive - Latinx                    0\n",
              "People Not-Positive - Asian Non-Latinx          0\n",
              "People Not-Positive - Black Non-Latinx          0\n",
              "People Not-Positive - White Non-Latinx          0\n",
              "People Not-Positive - Other Race Non-Latinx     0\n",
              "People Not-Positive - Unknown Race/Ethnicity    0\n",
              "dtype: int64"
            ]
          },
          "metadata": {},
          "execution_count": 6
        }
      ]
    },
    {
      "cell_type": "code",
      "metadata": {
        "id": "vAPsO4Yq1yAj"
      },
      "source": [
        "# Dropping columns day and Date.\n",
        "df=df.drop(columns=['Date','Day'])"
      ],
      "execution_count": 7,
      "outputs": []
    },
    {
      "cell_type": "code",
      "metadata": {
        "id": "XNuZqUlI1096",
        "colab": {
          "base_uri": "https://localhost:8080/",
          "height": 330
        },
        "outputId": "911c2652-cc26-4179-e0c2-958843c14e27"
      },
      "source": [
        "df.head()"
      ],
      "execution_count": 8,
      "outputs": [
        {
          "output_type": "execute_result",
          "data": {
            "text/html": [
              "<div>\n",
              "<style scoped>\n",
              "    .dataframe tbody tr th:only-of-type {\n",
              "        vertical-align: middle;\n",
              "    }\n",
              "\n",
              "    .dataframe tbody tr th {\n",
              "        vertical-align: top;\n",
              "    }\n",
              "\n",
              "    .dataframe thead th {\n",
              "        text-align: right;\n",
              "    }\n",
              "</style>\n",
              "<table border=\"1\" class=\"dataframe\">\n",
              "  <thead>\n",
              "    <tr style=\"text-align: right;\">\n",
              "      <th></th>\n",
              "      <th>Tests</th>\n",
              "      <th>Cases</th>\n",
              "      <th>People Not-Positive - Total</th>\n",
              "      <th>People Tested - Age 0-17</th>\n",
              "      <th>People Tested - Age 18-29</th>\n",
              "      <th>People Tested - Age 30-39</th>\n",
              "      <th>People Tested - Age 40-49</th>\n",
              "      <th>People Tested - Age 50-59</th>\n",
              "      <th>People Tested - Age 60-69</th>\n",
              "      <th>People Tested - Age 70-79</th>\n",
              "      <th>People Tested - Age 80+</th>\n",
              "      <th>People Tested - Age Unknown</th>\n",
              "      <th>People Tested - Female</th>\n",
              "      <th>People Tested - Male</th>\n",
              "      <th>People Tested - Gender Unknown</th>\n",
              "      <th>People Tested - Latinx</th>\n",
              "      <th>People Tested - Asian Non-Latinx</th>\n",
              "      <th>People Tested - Black Non-Latinx</th>\n",
              "      <th>People Tested - White Non-Latinx</th>\n",
              "      <th>People Tested - Other Race Non-Latinx</th>\n",
              "      <th>People Tested - Unknown Race/Ethnicity</th>\n",
              "      <th>People Positive - Age 0-17</th>\n",
              "      <th>People Positive - Age 18-29</th>\n",
              "      <th>People Positive - Age 30-30</th>\n",
              "      <th>People Positive - Age 40-49</th>\n",
              "      <th>People Positive - Age 50-59</th>\n",
              "      <th>People Positive - Age 60-69</th>\n",
              "      <th>People Positive - Age 70-79</th>\n",
              "      <th>People Positive - Age 80+</th>\n",
              "      <th>People Positive - Age Unknown</th>\n",
              "      <th>People Positive - Female</th>\n",
              "      <th>People Positive - Male</th>\n",
              "      <th>People Positive - Gender Unknown</th>\n",
              "      <th>People Positive - Latinx</th>\n",
              "      <th>People Positive - Asian Non-Latinx</th>\n",
              "      <th>People Positive - Black Non-Latinx</th>\n",
              "      <th>People Positive - White Non-Latinx</th>\n",
              "      <th>People Positive - Other Race Non-Latinx</th>\n",
              "      <th>People Positive - Unknown Race/Ethnicity</th>\n",
              "      <th>People Not-Positive - Age 0-17</th>\n",
              "      <th>People Not-Positive - Age 18-29</th>\n",
              "      <th>People Not-Positive - Age 30-39</th>\n",
              "      <th>People Not-Positive - Age 40-49</th>\n",
              "      <th>People Not-Positive - Age 50-59</th>\n",
              "      <th>People Not-Positive - Age 60-69</th>\n",
              "      <th>People Not-Positive - Age 70-79</th>\n",
              "      <th>People Not-Positive - Age 80+</th>\n",
              "      <th>People Not-Positive - Age Unknown</th>\n",
              "      <th>People Not-Positive - Female</th>\n",
              "      <th>People Not-Positive - Male</th>\n",
              "      <th>People Not-Positive - Gender Unknown</th>\n",
              "      <th>People Not-Positive - Latinx</th>\n",
              "      <th>People Not-Positive - Asian Non-Latinx</th>\n",
              "      <th>People Not-Positive - Black Non-Latinx</th>\n",
              "      <th>People Not-Positive - White Non-Latinx</th>\n",
              "      <th>People Not-Positive - Other Race Non-Latinx</th>\n",
              "      <th>People Not-Positive - Unknown Race/Ethnicity</th>\n",
              "    </tr>\n",
              "  </thead>\n",
              "  <tbody>\n",
              "    <tr>\n",
              "      <th>0</th>\n",
              "      <td>1</td>\n",
              "      <td>0</td>\n",
              "      <td>1</td>\n",
              "      <td>0</td>\n",
              "      <td>0</td>\n",
              "      <td>1</td>\n",
              "      <td>0</td>\n",
              "      <td>0</td>\n",
              "      <td>0</td>\n",
              "      <td>0</td>\n",
              "      <td>0</td>\n",
              "      <td>0</td>\n",
              "      <td>0</td>\n",
              "      <td>1</td>\n",
              "      <td>0</td>\n",
              "      <td>0</td>\n",
              "      <td>0</td>\n",
              "      <td>0</td>\n",
              "      <td>1</td>\n",
              "      <td>0</td>\n",
              "      <td>0</td>\n",
              "      <td>0</td>\n",
              "      <td>0</td>\n",
              "      <td>0</td>\n",
              "      <td>0</td>\n",
              "      <td>0</td>\n",
              "      <td>0</td>\n",
              "      <td>0</td>\n",
              "      <td>0</td>\n",
              "      <td>0</td>\n",
              "      <td>0</td>\n",
              "      <td>0</td>\n",
              "      <td>0</td>\n",
              "      <td>0</td>\n",
              "      <td>0</td>\n",
              "      <td>0</td>\n",
              "      <td>0</td>\n",
              "      <td>0</td>\n",
              "      <td>0</td>\n",
              "      <td>0</td>\n",
              "      <td>0</td>\n",
              "      <td>1</td>\n",
              "      <td>0</td>\n",
              "      <td>0</td>\n",
              "      <td>0</td>\n",
              "      <td>0</td>\n",
              "      <td>0</td>\n",
              "      <td>0</td>\n",
              "      <td>0</td>\n",
              "      <td>1</td>\n",
              "      <td>0</td>\n",
              "      <td>0</td>\n",
              "      <td>0</td>\n",
              "      <td>0</td>\n",
              "      <td>1</td>\n",
              "      <td>0</td>\n",
              "      <td>0</td>\n",
              "    </tr>\n",
              "    <tr>\n",
              "      <th>1</th>\n",
              "      <td>2,431</td>\n",
              "      <td>705</td>\n",
              "      <td>1,726</td>\n",
              "      <td>129</td>\n",
              "      <td>470</td>\n",
              "      <td>458</td>\n",
              "      <td>458</td>\n",
              "      <td>412</td>\n",
              "      <td>281</td>\n",
              "      <td>128</td>\n",
              "      <td>94</td>\n",
              "      <td>1</td>\n",
              "      <td>1,238</td>\n",
              "      <td>1,158</td>\n",
              "      <td>35</td>\n",
              "      <td>569</td>\n",
              "      <td>39</td>\n",
              "      <td>376</td>\n",
              "      <td>276</td>\n",
              "      <td>73</td>\n",
              "      <td>1,098</td>\n",
              "      <td>24</td>\n",
              "      <td>141</td>\n",
              "      <td>120</td>\n",
              "      <td>152</td>\n",
              "      <td>137</td>\n",
              "      <td>76</td>\n",
              "      <td>39</td>\n",
              "      <td>16</td>\n",
              "      <td>0</td>\n",
              "      <td>340</td>\n",
              "      <td>361</td>\n",
              "      <td>4</td>\n",
              "      <td>343</td>\n",
              "      <td>9</td>\n",
              "      <td>103</td>\n",
              "      <td>51</td>\n",
              "      <td>22</td>\n",
              "      <td>177</td>\n",
              "      <td>105</td>\n",
              "      <td>329</td>\n",
              "      <td>338</td>\n",
              "      <td>306</td>\n",
              "      <td>275</td>\n",
              "      <td>205</td>\n",
              "      <td>89</td>\n",
              "      <td>78</td>\n",
              "      <td>1</td>\n",
              "      <td>898</td>\n",
              "      <td>797</td>\n",
              "      <td>31</td>\n",
              "      <td>226</td>\n",
              "      <td>30</td>\n",
              "      <td>273</td>\n",
              "      <td>225</td>\n",
              "      <td>51</td>\n",
              "      <td>921</td>\n",
              "    </tr>\n",
              "    <tr>\n",
              "      <th>2</th>\n",
              "      <td>4,098</td>\n",
              "      <td>772</td>\n",
              "      <td>3,326</td>\n",
              "      <td>260</td>\n",
              "      <td>805</td>\n",
              "      <td>833</td>\n",
              "      <td>685</td>\n",
              "      <td>604</td>\n",
              "      <td>471</td>\n",
              "      <td>253</td>\n",
              "      <td>171</td>\n",
              "      <td>16</td>\n",
              "      <td>2,049</td>\n",
              "      <td>1,786</td>\n",
              "      <td>263</td>\n",
              "      <td>848</td>\n",
              "      <td>55</td>\n",
              "      <td>581</td>\n",
              "      <td>510</td>\n",
              "      <td>144</td>\n",
              "      <td>1,960</td>\n",
              "      <td>48</td>\n",
              "      <td>167</td>\n",
              "      <td>153</td>\n",
              "      <td>131</td>\n",
              "      <td>107</td>\n",
              "      <td>95</td>\n",
              "      <td>42</td>\n",
              "      <td>29</td>\n",
              "      <td>0</td>\n",
              "      <td>395</td>\n",
              "      <td>362</td>\n",
              "      <td>15</td>\n",
              "      <td>319</td>\n",
              "      <td>12</td>\n",
              "      <td>151</td>\n",
              "      <td>68</td>\n",
              "      <td>35</td>\n",
              "      <td>187</td>\n",
              "      <td>212</td>\n",
              "      <td>638</td>\n",
              "      <td>680</td>\n",
              "      <td>554</td>\n",
              "      <td>497</td>\n",
              "      <td>376</td>\n",
              "      <td>211</td>\n",
              "      <td>142</td>\n",
              "      <td>16</td>\n",
              "      <td>1,654</td>\n",
              "      <td>1,424</td>\n",
              "      <td>248</td>\n",
              "      <td>529</td>\n",
              "      <td>43</td>\n",
              "      <td>430</td>\n",
              "      <td>442</td>\n",
              "      <td>109</td>\n",
              "      <td>1,773</td>\n",
              "    </tr>\n",
              "    <tr>\n",
              "      <th>3</th>\n",
              "      <td>17</td>\n",
              "      <td>1</td>\n",
              "      <td>16</td>\n",
              "      <td>4</td>\n",
              "      <td>2</td>\n",
              "      <td>0</td>\n",
              "      <td>4</td>\n",
              "      <td>3</td>\n",
              "      <td>2</td>\n",
              "      <td>0</td>\n",
              "      <td>2</td>\n",
              "      <td>0</td>\n",
              "      <td>8</td>\n",
              "      <td>9</td>\n",
              "      <td>0</td>\n",
              "      <td>2</td>\n",
              "      <td>0</td>\n",
              "      <td>5</td>\n",
              "      <td>2</td>\n",
              "      <td>1</td>\n",
              "      <td>7</td>\n",
              "      <td>0</td>\n",
              "      <td>0</td>\n",
              "      <td>0</td>\n",
              "      <td>0</td>\n",
              "      <td>1</td>\n",
              "      <td>0</td>\n",
              "      <td>0</td>\n",
              "      <td>0</td>\n",
              "      <td>0</td>\n",
              "      <td>1</td>\n",
              "      <td>0</td>\n",
              "      <td>0</td>\n",
              "      <td>0</td>\n",
              "      <td>0</td>\n",
              "      <td>1</td>\n",
              "      <td>0</td>\n",
              "      <td>0</td>\n",
              "      <td>0</td>\n",
              "      <td>4</td>\n",
              "      <td>2</td>\n",
              "      <td>0</td>\n",
              "      <td>4</td>\n",
              "      <td>2</td>\n",
              "      <td>2</td>\n",
              "      <td>0</td>\n",
              "      <td>2</td>\n",
              "      <td>0</td>\n",
              "      <td>7</td>\n",
              "      <td>9</td>\n",
              "      <td>0</td>\n",
              "      <td>2</td>\n",
              "      <td>0</td>\n",
              "      <td>4</td>\n",
              "      <td>2</td>\n",
              "      <td>1</td>\n",
              "      <td>7</td>\n",
              "    </tr>\n",
              "    <tr>\n",
              "      <th>4</th>\n",
              "      <td>18</td>\n",
              "      <td>3</td>\n",
              "      <td>15</td>\n",
              "      <td>1</td>\n",
              "      <td>5</td>\n",
              "      <td>1</td>\n",
              "      <td>3</td>\n",
              "      <td>3</td>\n",
              "      <td>2</td>\n",
              "      <td>2</td>\n",
              "      <td>0</td>\n",
              "      <td>1</td>\n",
              "      <td>8</td>\n",
              "      <td>10</td>\n",
              "      <td>0</td>\n",
              "      <td>2</td>\n",
              "      <td>0</td>\n",
              "      <td>1</td>\n",
              "      <td>5</td>\n",
              "      <td>1</td>\n",
              "      <td>9</td>\n",
              "      <td>0</td>\n",
              "      <td>0</td>\n",
              "      <td>0</td>\n",
              "      <td>2</td>\n",
              "      <td>0</td>\n",
              "      <td>1</td>\n",
              "      <td>0</td>\n",
              "      <td>0</td>\n",
              "      <td>0</td>\n",
              "      <td>0</td>\n",
              "      <td>3</td>\n",
              "      <td>0</td>\n",
              "      <td>0</td>\n",
              "      <td>0</td>\n",
              "      <td>0</td>\n",
              "      <td>3</td>\n",
              "      <td>0</td>\n",
              "      <td>0</td>\n",
              "      <td>1</td>\n",
              "      <td>5</td>\n",
              "      <td>1</td>\n",
              "      <td>1</td>\n",
              "      <td>3</td>\n",
              "      <td>1</td>\n",
              "      <td>2</td>\n",
              "      <td>0</td>\n",
              "      <td>1</td>\n",
              "      <td>8</td>\n",
              "      <td>7</td>\n",
              "      <td>0</td>\n",
              "      <td>2</td>\n",
              "      <td>0</td>\n",
              "      <td>1</td>\n",
              "      <td>2</td>\n",
              "      <td>1</td>\n",
              "      <td>9</td>\n",
              "    </tr>\n",
              "  </tbody>\n",
              "</table>\n",
              "</div>"
            ],
            "text/plain": [
              "   Tests  ... People Not-Positive - Unknown Race/Ethnicity\n",
              "0      1  ...                                            0\n",
              "1  2,431  ...                                          921\n",
              "2  4,098  ...                                        1,773\n",
              "3     17  ...                                            7\n",
              "4     18  ...                                            9\n",
              "\n",
              "[5 rows x 57 columns]"
            ]
          },
          "metadata": {},
          "execution_count": 8
        }
      ]
    },
    {
      "cell_type": "code",
      "metadata": {
        "id": "z7sGUFdO2CAo",
        "colab": {
          "base_uri": "https://localhost:8080/",
          "height": 278
        },
        "outputId": "aab07588-c41b-47bb-8009-179389a88520"
      },
      "source": [
        "X = df[['Cases',\n",
        "       'People Tested - Age 0-17', 'People Tested - Age 18-29',\n",
        "       'People Tested - Age 30-39', 'People Tested - Age 40-49',\n",
        "       'People Tested - Age 50-59', 'People Tested - Age 60-69',\n",
        "       'People Tested - Age 70-79', 'People Tested - Age 80+',\n",
        "       'People Tested - Age Unknown']]\n",
        "X.head()"
      ],
      "execution_count": 132,
      "outputs": [
        {
          "output_type": "execute_result",
          "data": {
            "text/html": [
              "<div>\n",
              "<style scoped>\n",
              "    .dataframe tbody tr th:only-of-type {\n",
              "        vertical-align: middle;\n",
              "    }\n",
              "\n",
              "    .dataframe tbody tr th {\n",
              "        vertical-align: top;\n",
              "    }\n",
              "\n",
              "    .dataframe thead th {\n",
              "        text-align: right;\n",
              "    }\n",
              "</style>\n",
              "<table border=\"1\" class=\"dataframe\">\n",
              "  <thead>\n",
              "    <tr style=\"text-align: right;\">\n",
              "      <th></th>\n",
              "      <th>Cases</th>\n",
              "      <th>People Tested - Age 0-17</th>\n",
              "      <th>People Tested - Age 18-29</th>\n",
              "      <th>People Tested - Age 30-39</th>\n",
              "      <th>People Tested - Age 40-49</th>\n",
              "      <th>People Tested - Age 50-59</th>\n",
              "      <th>People Tested - Age 60-69</th>\n",
              "      <th>People Tested - Age 70-79</th>\n",
              "      <th>People Tested - Age 80+</th>\n",
              "      <th>People Tested - Age Unknown</th>\n",
              "    </tr>\n",
              "  </thead>\n",
              "  <tbody>\n",
              "    <tr>\n",
              "      <th>0</th>\n",
              "      <td>0</td>\n",
              "      <td>0</td>\n",
              "      <td>0</td>\n",
              "      <td>1</td>\n",
              "      <td>0</td>\n",
              "      <td>0</td>\n",
              "      <td>0</td>\n",
              "      <td>0</td>\n",
              "      <td>0</td>\n",
              "      <td>0</td>\n",
              "    </tr>\n",
              "    <tr>\n",
              "      <th>1</th>\n",
              "      <td>705</td>\n",
              "      <td>129</td>\n",
              "      <td>470</td>\n",
              "      <td>458</td>\n",
              "      <td>458</td>\n",
              "      <td>412</td>\n",
              "      <td>281</td>\n",
              "      <td>128</td>\n",
              "      <td>94</td>\n",
              "      <td>1</td>\n",
              "    </tr>\n",
              "    <tr>\n",
              "      <th>2</th>\n",
              "      <td>772</td>\n",
              "      <td>260</td>\n",
              "      <td>805</td>\n",
              "      <td>833</td>\n",
              "      <td>685</td>\n",
              "      <td>604</td>\n",
              "      <td>471</td>\n",
              "      <td>253</td>\n",
              "      <td>171</td>\n",
              "      <td>16</td>\n",
              "    </tr>\n",
              "    <tr>\n",
              "      <th>3</th>\n",
              "      <td>1</td>\n",
              "      <td>4</td>\n",
              "      <td>2</td>\n",
              "      <td>0</td>\n",
              "      <td>4</td>\n",
              "      <td>3</td>\n",
              "      <td>2</td>\n",
              "      <td>0</td>\n",
              "      <td>2</td>\n",
              "      <td>0</td>\n",
              "    </tr>\n",
              "    <tr>\n",
              "      <th>4</th>\n",
              "      <td>3</td>\n",
              "      <td>1</td>\n",
              "      <td>5</td>\n",
              "      <td>1</td>\n",
              "      <td>3</td>\n",
              "      <td>3</td>\n",
              "      <td>2</td>\n",
              "      <td>2</td>\n",
              "      <td>0</td>\n",
              "      <td>1</td>\n",
              "    </tr>\n",
              "  </tbody>\n",
              "</table>\n",
              "</div>"
            ],
            "text/plain": [
              "  Cases  ...  People Tested - Age Unknown\n",
              "0     0  ...                            0\n",
              "1   705  ...                            1\n",
              "2   772  ...                           16\n",
              "3     1  ...                            0\n",
              "4     3  ...                            1\n",
              "\n",
              "[5 rows x 10 columns]"
            ]
          },
          "metadata": {},
          "execution_count": 132
        }
      ]
    },
    {
      "cell_type": "code",
      "metadata": {
        "colab": {
          "base_uri": "https://localhost:8080/"
        },
        "id": "HAu_cj_S2SBW",
        "outputId": "d52d8ec0-50ef-4606-8529-c7a7e6a6cbbc"
      },
      "source": [
        "X.info()"
      ],
      "execution_count": 133,
      "outputs": [
        {
          "output_type": "stream",
          "name": "stdout",
          "text": [
            "<class 'pandas.core.frame.DataFrame'>\n",
            "RangeIndex: 89 entries, 0 to 88\n",
            "Data columns (total 10 columns):\n",
            " #   Column                       Non-Null Count  Dtype \n",
            "---  ------                       --------------  ----- \n",
            " 0   Cases                        89 non-null     object\n",
            " 1   People Tested - Age 0-17     89 non-null     int64 \n",
            " 2   People Tested - Age 18-29    89 non-null     object\n",
            " 3   People Tested - Age 30-39    89 non-null     object\n",
            " 4   People Tested - Age 40-49    89 non-null     int64 \n",
            " 5   People Tested - Age 50-59    89 non-null     int64 \n",
            " 6   People Tested - Age 60-69    89 non-null     int64 \n",
            " 7   People Tested - Age 70-79    89 non-null     int64 \n",
            " 8   People Tested - Age 80+      89 non-null     int64 \n",
            " 9   People Tested - Age Unknown  89 non-null     int64 \n",
            "dtypes: int64(7), object(3)\n",
            "memory usage: 7.1+ KB\n"
          ]
        }
      ]
    },
    {
      "cell_type": "code",
      "metadata": {
        "colab": {
          "base_uri": "https://localhost:8080/",
          "height": 278
        },
        "id": "gVt0y52vuaUv",
        "outputId": "420e7820-5dbc-4a89-f617-ac651b39c708"
      },
      "source": [
        "# removing commas from numerics value\n",
        "X = X.replace(',','', regex=True)\n",
        "X.head()\n"
      ],
      "execution_count": 134,
      "outputs": [
        {
          "output_type": "execute_result",
          "data": {
            "text/html": [
              "<div>\n",
              "<style scoped>\n",
              "    .dataframe tbody tr th:only-of-type {\n",
              "        vertical-align: middle;\n",
              "    }\n",
              "\n",
              "    .dataframe tbody tr th {\n",
              "        vertical-align: top;\n",
              "    }\n",
              "\n",
              "    .dataframe thead th {\n",
              "        text-align: right;\n",
              "    }\n",
              "</style>\n",
              "<table border=\"1\" class=\"dataframe\">\n",
              "  <thead>\n",
              "    <tr style=\"text-align: right;\">\n",
              "      <th></th>\n",
              "      <th>Cases</th>\n",
              "      <th>People Tested - Age 0-17</th>\n",
              "      <th>People Tested - Age 18-29</th>\n",
              "      <th>People Tested - Age 30-39</th>\n",
              "      <th>People Tested - Age 40-49</th>\n",
              "      <th>People Tested - Age 50-59</th>\n",
              "      <th>People Tested - Age 60-69</th>\n",
              "      <th>People Tested - Age 70-79</th>\n",
              "      <th>People Tested - Age 80+</th>\n",
              "      <th>People Tested - Age Unknown</th>\n",
              "    </tr>\n",
              "  </thead>\n",
              "  <tbody>\n",
              "    <tr>\n",
              "      <th>0</th>\n",
              "      <td>0</td>\n",
              "      <td>0</td>\n",
              "      <td>0</td>\n",
              "      <td>1</td>\n",
              "      <td>0</td>\n",
              "      <td>0</td>\n",
              "      <td>0</td>\n",
              "      <td>0</td>\n",
              "      <td>0</td>\n",
              "      <td>0</td>\n",
              "    </tr>\n",
              "    <tr>\n",
              "      <th>1</th>\n",
              "      <td>705</td>\n",
              "      <td>129</td>\n",
              "      <td>470</td>\n",
              "      <td>458</td>\n",
              "      <td>458</td>\n",
              "      <td>412</td>\n",
              "      <td>281</td>\n",
              "      <td>128</td>\n",
              "      <td>94</td>\n",
              "      <td>1</td>\n",
              "    </tr>\n",
              "    <tr>\n",
              "      <th>2</th>\n",
              "      <td>772</td>\n",
              "      <td>260</td>\n",
              "      <td>805</td>\n",
              "      <td>833</td>\n",
              "      <td>685</td>\n",
              "      <td>604</td>\n",
              "      <td>471</td>\n",
              "      <td>253</td>\n",
              "      <td>171</td>\n",
              "      <td>16</td>\n",
              "    </tr>\n",
              "    <tr>\n",
              "      <th>3</th>\n",
              "      <td>1</td>\n",
              "      <td>4</td>\n",
              "      <td>2</td>\n",
              "      <td>0</td>\n",
              "      <td>4</td>\n",
              "      <td>3</td>\n",
              "      <td>2</td>\n",
              "      <td>0</td>\n",
              "      <td>2</td>\n",
              "      <td>0</td>\n",
              "    </tr>\n",
              "    <tr>\n",
              "      <th>4</th>\n",
              "      <td>3</td>\n",
              "      <td>1</td>\n",
              "      <td>5</td>\n",
              "      <td>1</td>\n",
              "      <td>3</td>\n",
              "      <td>3</td>\n",
              "      <td>2</td>\n",
              "      <td>2</td>\n",
              "      <td>0</td>\n",
              "      <td>1</td>\n",
              "    </tr>\n",
              "  </tbody>\n",
              "</table>\n",
              "</div>"
            ],
            "text/plain": [
              "  Cases  ...  People Tested - Age Unknown\n",
              "0     0  ...                            0\n",
              "1   705  ...                            1\n",
              "2   772  ...                           16\n",
              "3     1  ...                            0\n",
              "4     3  ...                            1\n",
              "\n",
              "[5 rows x 10 columns]"
            ]
          },
          "metadata": {},
          "execution_count": 134
        }
      ]
    },
    {
      "cell_type": "code",
      "metadata": {
        "id": "FQxfk_yn2KIW",
        "colab": {
          "base_uri": "https://localhost:8080/",
          "height": 206
        },
        "outputId": "ff41756a-2753-4850-9f97-5fb02c7ef038"
      },
      "source": [
        "y= df[['People Positive - Latinx']]\n",
        "y.head()"
      ],
      "execution_count": 136,
      "outputs": [
        {
          "output_type": "execute_result",
          "data": {
            "text/html": [
              "<div>\n",
              "<style scoped>\n",
              "    .dataframe tbody tr th:only-of-type {\n",
              "        vertical-align: middle;\n",
              "    }\n",
              "\n",
              "    .dataframe tbody tr th {\n",
              "        vertical-align: top;\n",
              "    }\n",
              "\n",
              "    .dataframe thead th {\n",
              "        text-align: right;\n",
              "    }\n",
              "</style>\n",
              "<table border=\"1\" class=\"dataframe\">\n",
              "  <thead>\n",
              "    <tr style=\"text-align: right;\">\n",
              "      <th></th>\n",
              "      <th>People Positive - Latinx</th>\n",
              "    </tr>\n",
              "  </thead>\n",
              "  <tbody>\n",
              "    <tr>\n",
              "      <th>0</th>\n",
              "      <td>0</td>\n",
              "    </tr>\n",
              "    <tr>\n",
              "      <th>1</th>\n",
              "      <td>343</td>\n",
              "    </tr>\n",
              "    <tr>\n",
              "      <th>2</th>\n",
              "      <td>319</td>\n",
              "    </tr>\n",
              "    <tr>\n",
              "      <th>3</th>\n",
              "      <td>0</td>\n",
              "    </tr>\n",
              "    <tr>\n",
              "      <th>4</th>\n",
              "      <td>0</td>\n",
              "    </tr>\n",
              "  </tbody>\n",
              "</table>\n",
              "</div>"
            ],
            "text/plain": [
              "   People Positive - Latinx\n",
              "0                         0\n",
              "1                       343\n",
              "2                       319\n",
              "3                         0\n",
              "4                         0"
            ]
          },
          "metadata": {},
          "execution_count": 136
        }
      ]
    },
    {
      "cell_type": "code",
      "metadata": {
        "id": "dQ-Qbk0e3vUj",
        "colab": {
          "base_uri": "https://localhost:8080/"
        },
        "outputId": "a1619256-d3ca-4277-e44d-ee878fe17b46"
      },
      "source": [
        "X.shape"
      ],
      "execution_count": 137,
      "outputs": [
        {
          "output_type": "execute_result",
          "data": {
            "text/plain": [
              "(89, 10)"
            ]
          },
          "metadata": {},
          "execution_count": 137
        }
      ]
    },
    {
      "cell_type": "code",
      "metadata": {
        "id": "TNYs0GNm4K5O",
        "colab": {
          "base_uri": "https://localhost:8080/"
        },
        "outputId": "b955421d-db71-49c1-9b03-3c11250028aa"
      },
      "source": [
        "y.shape"
      ],
      "execution_count": 138,
      "outputs": [
        {
          "output_type": "execute_result",
          "data": {
            "text/plain": [
              "(89, 1)"
            ]
          },
          "metadata": {},
          "execution_count": 138
        }
      ]
    },
    {
      "cell_type": "markdown",
      "metadata": {
        "id": "vUbZP5tccvEp"
      },
      "source": [
        "# Build Linear Regression and train the model"
      ]
    },
    {
      "cell_type": "code",
      "metadata": {
        "id": "g-isLW6s4XaJ"
      },
      "source": [
        "# import the library for linear regression\n",
        "from sklearn.linear_model import LinearRegression\n",
        "linReg = LinearRegression()"
      ],
      "execution_count": 139,
      "outputs": []
    },
    {
      "cell_type": "code",
      "metadata": {
        "id": "yKryzOu25uDi"
      },
      "source": [
        "# import library for training \n",
        "# x_train, x_test, y_train, y_test = train_test_split(X,y, test_size=0.3) if I want to define the test size to 30%\n",
        "from sklearn.model_selection import train_test_split\n",
        "X_train, X_test, y_train, y_test = train_test_split(X,y, test_size =.3)"
      ],
      "execution_count": 143,
      "outputs": []
    },
    {
      "cell_type": "code",
      "metadata": {
        "id": "xSjQW7Gm8_cO",
        "colab": {
          "base_uri": "https://localhost:8080/"
        },
        "outputId": "aa6ec2ae-15c1-4e5f-c69f-b9835b0e3550"
      },
      "source": [
        "# printing shapes of the trained and tested datasets\n",
        "print(X_train.shape,X_test.shape,y_train.shape,y_test.shape)"
      ],
      "execution_count": 144,
      "outputs": [
        {
          "output_type": "stream",
          "name": "stdout",
          "text": [
            "(62, 10) (27, 10) (62, 1) (27, 1)\n"
          ]
        }
      ]
    },
    {
      "cell_type": "code",
      "metadata": {
        "id": "PK0Tq2qs-JTJ",
        "colab": {
          "base_uri": "https://localhost:8080/"
        },
        "outputId": "66e51545-0745-4c3e-dce2-58513cfc1326"
      },
      "source": [
        "# fit the training sets into the model\n",
        "linReg.fit(X_train,y_train)"
      ],
      "execution_count": 145,
      "outputs": [
        {
          "output_type": "execute_result",
          "data": {
            "text/plain": [
              "LinearRegression(copy_X=True, fit_intercept=True, n_jobs=None, normalize=False)"
            ]
          },
          "metadata": {},
          "execution_count": 145
        }
      ]
    },
    {
      "cell_type": "code",
      "metadata": {
        "id": "C3U4oI6WX-WQ",
        "outputId": "ba8110db-6c75-4dc4-8be8-fa8615f6c293",
        "colab": {
          "base_uri": "https://localhost:8080/"
        }
      },
      "source": [
        "# print the estimated intercept \n",
        "print(linReg.intercept_)"
      ],
      "execution_count": 146,
      "outputs": [
        {
          "output_type": "stream",
          "name": "stdout",
          "text": [
            "[-27.07730328]\n"
          ]
        }
      ]
    },
    {
      "cell_type": "code",
      "metadata": {
        "id": "nvzIU00qX98D",
        "outputId": "a715ef73-81bf-4ddf-b39b-10e470f5c488",
        "colab": {
          "base_uri": "https://localhost:8080/"
        }
      },
      "source": [
        "# print the coefficient of the linear regression.\n",
        "print(linReg.coef_)"
      ],
      "execution_count": 147,
      "outputs": [
        {
          "output_type": "stream",
          "name": "stdout",
          "text": [
            "[[ 0.51069057  0.73871913  0.33809818 -0.49585328  0.10133649 -0.09879867\n",
            "  -0.16640192  0.01883097 -0.0467406   0.29150791]]\n"
          ]
        }
      ]
    },
    {
      "cell_type": "markdown",
      "metadata": {
        "id": "g0pza026iy9J"
      },
      "source": [
        "# Calculate RMSE and R square"
      ]
    },
    {
      "cell_type": "code",
      "metadata": {
        "id": "CvPTpg6T-p15"
      },
      "source": [
        "#import metrics library and calculate mean of squared errors(mse)\n",
        "from sklearn import metrics\n"
      ],
      "execution_count": 148,
      "outputs": []
    },
    {
      "cell_type": "code",
      "metadata": {
        "id": "g14xWA8g_6nZ",
        "colab": {
          "base_uri": "https://localhost:8080/"
        },
        "outputId": "ccc829b3-6554-44bb-b276-c0717012f03b"
      },
      "source": [
        "# model evaluation for testing set\n",
        "y_pred = linReg.predict(X_test)\n",
        "y_pred"
      ],
      "execution_count": 149,
      "outputs": [
        {
          "output_type": "execute_result",
          "data": {
            "text/plain": [
              "array([[127.1590836 ],\n",
              "       [-23.60789533],\n",
              "       [ 80.84878382],\n",
              "       [415.79401034],\n",
              "       [127.7090856 ],\n",
              "       [-23.8921334 ],\n",
              "       [121.55793051],\n",
              "       [133.96600595],\n",
              "       [ 75.74288947],\n",
              "       [  1.55304145],\n",
              "       [475.52323116],\n",
              "       [-23.25287491],\n",
              "       [356.00966352],\n",
              "       [434.25051201],\n",
              "       [ 55.91245369],\n",
              "       [125.19960638],\n",
              "       [172.96905804],\n",
              "       [246.38258262],\n",
              "       [ -5.01268593],\n",
              "       [545.23852637],\n",
              "       [568.13018256],\n",
              "       [-18.59774643],\n",
              "       [505.71535751],\n",
              "       [  1.63650914],\n",
              "       [262.734433  ],\n",
              "       [ 38.83600211],\n",
              "       [117.59898948]])"
            ]
          },
          "metadata": {},
          "execution_count": 149
        }
      ]
    },
    {
      "cell_type": "code",
      "metadata": {
        "id": "-PtteplsAWT-",
        "colab": {
          "base_uri": "https://localhost:8080/"
        },
        "outputId": "4db74dff-99be-469d-964b-35dc82f16892"
      },
      "source": [
        "print('Actual Values', y_test.values[0:10])"
      ],
      "execution_count": 150,
      "outputs": [
        {
          "output_type": "stream",
          "name": "stdout",
          "text": [
            "Actual Values [[ 88]\n",
            " [  0]\n",
            " [ 21]\n",
            " [403]\n",
            " [120]\n",
            " [  0]\n",
            " [ 89]\n",
            " [ 99]\n",
            " [ 71]\n",
            " [ 24]]\n"
          ]
        }
      ]
    },
    {
      "cell_type": "code",
      "metadata": {
        "colab": {
          "base_uri": "https://localhost:8080/"
        },
        "id": "qTEXuZMb6Ojf",
        "outputId": "21a2ae69-f033-4230-c63e-b146d96dddab"
      },
      "source": [
        "print('predicted value', y_pred[0:10])"
      ],
      "execution_count": 151,
      "outputs": [
        {
          "output_type": "stream",
          "name": "stdout",
          "text": [
            "predicted value [[127.1590836 ]\n",
            " [-23.60789533]\n",
            " [ 80.84878382]\n",
            " [415.79401034]\n",
            " [127.7090856 ]\n",
            " [-23.8921334 ]\n",
            " [121.55793051]\n",
            " [133.96600595]\n",
            " [ 75.74288947]\n",
            " [  1.55304145]]\n"
          ]
        }
      ]
    },
    {
      "cell_type": "code",
      "metadata": {
        "colab": {
          "base_uri": "https://localhost:8080/"
        },
        "id": "i8X75-VC6W6C",
        "outputId": "1bf9754f-e8fc-45b2-f8b6-b690aad3f626"
      },
      "source": [
        "from sklearn import metrics\n",
        "mse = metrics.mean_squared_error(y_test,y_pred)\n",
        "mse"
      ],
      "execution_count": 152,
      "outputs": [
        {
          "output_type": "execute_result",
          "data": {
            "text/plain": [
              "959.0086987415964"
            ]
          },
          "metadata": {},
          "execution_count": 152
        }
      ]
    },
    {
      "cell_type": "code",
      "metadata": {
        "colab": {
          "base_uri": "https://localhost:8080/"
        },
        "id": "suIEPpkI6d-S",
        "outputId": "532af555-c07f-4004-e371-2cfd6cb4476e"
      },
      "source": [
        "rmse= np.sqrt(mse)\n",
        "print('RMSE = {}'.format(rmse))"
      ],
      "execution_count": 160,
      "outputs": [
        {
          "output_type": "stream",
          "name": "stdout",
          "text": [
            "RMSE = 30.96786558259378\n"
          ]
        }
      ]
    },
    {
      "cell_type": "code",
      "metadata": {
        "colab": {
          "base_uri": "https://localhost:8080/"
        },
        "id": "e9ki8lx26mwW",
        "outputId": "8a425865-88d3-4f4a-b3d3-afd10cc8e1d1"
      },
      "source": [
        "r2 = metrics.r2_score(y_test,y_pred)\n",
        "print('R2 = {}'.format(r2))"
      ],
      "execution_count": 159,
      "outputs": [
        {
          "output_type": "stream",
          "name": "stdout",
          "text": [
            "R2 = 0.9738193540022132\n"
          ]
        }
      ]
    },
    {
      "cell_type": "code",
      "metadata": {
        "colab": {
          "base_uri": "https://localhost:8080/",
          "height": 339
        },
        "id": "wUwaJVJe6wFk",
        "outputId": "d790e974-7f1d-4048-c683-736272f2db1c"
      },
      "source": [
        "plt.scatter(y_test,y_pred)\n",
        "regplt = sns.regplot(y_test, y_pred,x='y_test', y='y_pred')"
      ],
      "execution_count": 165,
      "outputs": [
        {
          "output_type": "stream",
          "name": "stderr",
          "text": [
            "/usr/local/lib/python3.7/dist-packages/seaborn/_decorators.py:43: FutureWarning: Pass the following variables as keyword args: x, y. From version 0.12, the only valid positional argument will be `data`, and passing other arguments without an explicit keyword will result in an error or misinterpretation.\n",
            "  FutureWarning\n"
          ]
        },
        {
          "output_type": "display_data",
          "data": {
            "image/png": "[encoded data removed]",
            "text/plain": [
              "<Figure size 432x288 with 1 Axes>"
            ]
          },
          "metadata": {
            "needs_background": "light"
          }
        }
      ]
    },
    {
      "cell_type": "markdown",
      "metadata": {
        "id": "Hwch-J5PIHA1"
      },
      "source": [
        "# Conclusion"
      ]
    },
    {
      "cell_type": "markdown",
      "metadata": {
        "id": "q5G5KP6CINBS"
      },
      "source": [
        "\n",
        "  R squarred value obtained show that 97% of the data fit the regression model.\n",
        "So, we conclude that the model is able to estimate a very close prediction to the testing data set.\n"
      ]
    }
  ]
}