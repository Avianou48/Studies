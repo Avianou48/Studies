{
  "nbformat": 4,
  "nbformat_minor": 0,
  "metadata": {
    "colab": {
      "name": "COVID19_DATA_ANALYSIS.ipynb",
      "provenance": [],
      "collapsed_sections": [],
      "include_colab_link": true
    },
    "kernelspec": {
      "name": "python3",
      "display_name": "Python 3"
    }
  },
  "cells": [
    {
      "cell_type": "markdown",
      "metadata": {
        "id": "view-in-github",
        "colab_type": "text"
      },
      "source": [
        "<a href=\"https://colab.research.google.com/github/robajo12/data_analytics_2/blob/main/Python/Advanced_Python/COVID19_Testing_Project.ipynb\" target=\"_parent\"><img src=\"https://colab.research.google.com/assets/colab-badge.svg\" alt=\"Open In Colab\"/></a>"
      ]
    },
    {
      "cell_type": "markdown",
      "metadata": {
        "id": "9jvXpX2bbIFF"
      },
      "source": [
        "# COVID 19 Testing Project"
      ]
    },
    {
      "cell_type": "markdown",
      "metadata": {
        "id": "RSvGZmxBa_Gk"
      },
      "source": [
        "**Description:** This script will read the latest data from the New York Times' county-level COVID-19 database at https://github.com/nytimes/covid-19-data/blob/master/us-counties.csv, filter the data for a chosen county in a chosen state, calculate the daily count of new cases and new deaths, print the most recent 28 days' worth of data for the selected county, and save the county's data for all dates to a comma-separated value (.csv) file on your computer. The printed data can be copied and pasted directly into a spreadsheet for further analysis and visualization.\n",
        "\n",
        "**Note:** For information about the data, see https://github.com/nytimes/covid-19-data.\n",
        "\n",
        "**Note:** After you have run the script one time in a given Anaconda environment, you may reduce the script's execution time by adding a `#` in front of `pip install pandas`. For example, `#pip install pandas` instead of `pip install pandas`. The `#` will tell Python to skip the code without running it."
      ]
    },
    {
      "cell_type": "markdown",
      "metadata": {
        "id": "ji_HknaobZJh"
      },
      "source": [
        "# Environment Set up"
      ]
    },
    {
      "cell_type": "markdown",
      "metadata": {
        "id": "bNjD4CJ9aS2y"
      },
      "source": [
        "Importation of all required libraries needed for data analysis. "
      ]
    },
    {
      "cell_type": "code",
      "metadata": {
        "id": "k2f9bX3aiTDP"
      },
      "source": [
        "rt pandas as pd\n",
        "import numpy as np\n",
        "import matplotlib.pyplot as plt\n",
        "from matplotlib import style"
      ],
      "execution_count": 1,
      "outputs": []
    },
    {
      "cell_type": "markdown",
      "metadata": {
        "id": "vgt8s61dbueM"
      },
      "source": [
        "# Data Acquisition"
      ]
    },
    {
      "cell_type": "markdown",
      "metadata": {
        "id": "CEc5pqrkbxcX"
      },
      "source": [
        "Collection of the dataset for data analysis purpose"
      ]
    },
    {
      "cell_type": "code",
      "metadata": {
        "id": "vgw9nO9Hm_SB"
      },
      "source": [
        "df = pd.read_csv('https://raw.githubusercontent.com/niteen11/data301_predictive_analytics_machine_learning/main/data/COVID-19_Daily_Testing.csv')"
      ],
      "execution_count": 2,
      "outputs": []
    },
    {
      "cell_type": "code",
      "metadata": {
        "id": "FEG9n2sI0Yxu",
        "colab": {
          "base_uri": "https://localhost:8080/",
          "height": 330
        },
        "outputId": "b89dc530-104f-4c15-9288-a96cfeed7275"
      },
      "source": [
        "df.head()"
      ],
      "execution_count": 3,
      "outputs": [
        {
          "output_type": "execute_result",
          "data": {
            "text/html": [
              "<div>\n",
              "<style scoped>\n",
              "    .dataframe tbody tr th:only-of-type {\n",
              "        vertical-align: middle;\n",
              "    }\n",
              "\n",
              "    .dataframe tbody tr th {\n",
              "        vertical-align: top;\n",
              "    }\n",
              "\n",
              "    .dataframe thead th {\n",
              "        text-align: right;\n",
              "    }\n",
              "</style>\n",
              "<table border=\"1\" class=\"dataframe\">\n",
              "  <thead>\n",
              "    <tr style=\"text-align: right;\">\n",
              "      <th></th>\n",
              "      <th>Date</th>\n",
              "      <th>Day</th>\n",
              "      <th>Tests</th>\n",
              "      <th>Cases</th>\n",
              "      <th>People Not-Positive - Total</th>\n",
              "      <th>People Tested - Age 0-17</th>\n",
              "      <th>People Tested - Age 18-29</th>\n",
              "      <th>People Tested - Age 30-39</th>\n",
              "      <th>People Tested - Age 40-49</th>\n",
              "      <th>People Tested - Age 50-59</th>\n",
              "      <th>People Tested - Age 60-69</th>\n",
              "      <th>People Tested - Age 70-79</th>\n",
              "      <th>People Tested - Age 80+</th>\n",
              "      <th>People Tested - Age Unknown</th>\n",
              "      <th>People Tested - Female</th>\n",
              "      <th>People Tested - Male</th>\n",
              "      <th>People Tested - Gender Unknown</th>\n",
              "      <th>People Tested - Latinx</th>\n",
              "      <th>People Tested - Asian Non-Latinx</th>\n",
              "      <th>People Tested - Black Non-Latinx</th>\n",
              "      <th>People Tested - White Non-Latinx</th>\n",
              "      <th>People Tested - Other Race Non-Latinx</th>\n",
              "      <th>People Tested - Unknown Race/Ethnicity</th>\n",
              "      <th>People Positive - Age 0-17</th>\n",
              "      <th>People Positive - Age 18-29</th>\n",
              "      <th>People Positive - Age 30-30</th>\n",
              "      <th>People Positive - Age 40-49</th>\n",
              "      <th>People Positive - Age 50-59</th>\n",
              "      <th>People Positive - Age 60-69</th>\n",
              "      <th>People Positive - Age 70-79</th>\n",
              "      <th>People Positive - Age 80+</th>\n",
              "      <th>People Positive - Age Unknown</th>\n",
              "      <th>People Positive - Female</th>\n",
              "      <th>People Positive - Male</th>\n",
              "      <th>People Positive - Gender Unknown</th>\n",
              "      <th>People Positive - Latinx</th>\n",
              "      <th>People Positive - Asian Non-Latinx</th>\n",
              "      <th>People Positive - Black Non-Latinx</th>\n",
              "      <th>People Positive - White Non-Latinx</th>\n",
              "      <th>People Positive - Other Race Non-Latinx</th>\n",
              "      <th>People Positive - Unknown Race/Ethnicity</th>\n",
              "      <th>People Not-Positive - Age 0-17</th>\n",
              "      <th>People Not-Positive - Age 18-29</th>\n",
              "      <th>People Not-Positive - Age 30-39</th>\n",
              "      <th>People Not-Positive - Age 40-49</th>\n",
              "      <th>People Not-Positive - Age 50-59</th>\n",
              "      <th>People Not-Positive - Age 60-69</th>\n",
              "      <th>People Not-Positive - Age 70-79</th>\n",
              "      <th>People Not-Positive - Age 80+</th>\n",
              "      <th>People Not-Positive - Age Unknown</th>\n",
              "      <th>People Not-Positive - Female</th>\n",
              "      <th>People Not-Positive - Male</th>\n",
              "      <th>People Not-Positive - Gender Unknown</th>\n",
              "      <th>People Not-Positive - Latinx</th>\n",
              "      <th>People Not-Positive - Asian Non-Latinx</th>\n",
              "      <th>People Not-Positive - Black Non-Latinx</th>\n",
              "      <th>People Not-Positive - White Non-Latinx</th>\n",
              "      <th>People Not-Positive - Other Race Non-Latinx</th>\n",
              "      <th>People Not-Positive - Unknown Race/Ethnicity</th>\n",
              "    </tr>\n",
              "  </thead>\n",
              "  <tbody>\n",
              "    <tr>\n",
              "      <th>0</th>\n",
              "      <td>03-01-20</td>\n",
              "      <td>Sunday</td>\n",
              "      <td>1</td>\n",
              "      <td>0</td>\n",
              "      <td>1</td>\n",
              "      <td>0</td>\n",
              "      <td>0</td>\n",
              "      <td>1</td>\n",
              "      <td>0</td>\n",
              "      <td>0</td>\n",
              "      <td>0</td>\n",
              "      <td>0</td>\n",
              "      <td>0</td>\n",
              "      <td>0</td>\n",
              "      <td>0</td>\n",
              "      <td>1</td>\n",
              "      <td>0</td>\n",
              "      <td>0</td>\n",
              "      <td>0</td>\n",
              "      <td>0</td>\n",
              "      <td>1</td>\n",
              "      <td>0</td>\n",
              "      <td>0</td>\n",
              "      <td>0</td>\n",
              "      <td>0</td>\n",
              "      <td>0</td>\n",
              "      <td>0</td>\n",
              "      <td>0</td>\n",
              "      <td>0</td>\n",
              "      <td>0</td>\n",
              "      <td>0</td>\n",
              "      <td>0</td>\n",
              "      <td>0</td>\n",
              "      <td>0</td>\n",
              "      <td>0</td>\n",
              "      <td>0</td>\n",
              "      <td>0</td>\n",
              "      <td>0</td>\n",
              "      <td>0</td>\n",
              "      <td>0</td>\n",
              "      <td>0</td>\n",
              "      <td>0</td>\n",
              "      <td>0</td>\n",
              "      <td>1</td>\n",
              "      <td>0</td>\n",
              "      <td>0</td>\n",
              "      <td>0</td>\n",
              "      <td>0</td>\n",
              "      <td>0</td>\n",
              "      <td>0</td>\n",
              "      <td>0</td>\n",
              "      <td>1</td>\n",
              "      <td>0</td>\n",
              "      <td>0</td>\n",
              "      <td>0</td>\n",
              "      <td>0</td>\n",
              "      <td>1</td>\n",
              "      <td>0</td>\n",
              "      <td>0</td>\n",
              "    </tr>\n",
              "    <tr>\n",
              "      <th>1</th>\n",
              "      <td>05-02-20</td>\n",
              "      <td>Saturday</td>\n",
              "      <td>2,431</td>\n",
              "      <td>705</td>\n",
              "      <td>1,726</td>\n",
              "      <td>129</td>\n",
              "      <td>470</td>\n",
              "      <td>458</td>\n",
              "      <td>458</td>\n",
              "      <td>412</td>\n",
              "      <td>281</td>\n",
              "      <td>128</td>\n",
              "      <td>94</td>\n",
              "      <td>1</td>\n",
              "      <td>1,238</td>\n",
              "      <td>1,158</td>\n",
              "      <td>35</td>\n",
              "      <td>569</td>\n",
              "      <td>39</td>\n",
              "      <td>376</td>\n",
              "      <td>276</td>\n",
              "      <td>73</td>\n",
              "      <td>1,098</td>\n",
              "      <td>24</td>\n",
              "      <td>141</td>\n",
              "      <td>120</td>\n",
              "      <td>152</td>\n",
              "      <td>137</td>\n",
              "      <td>76</td>\n",
              "      <td>39</td>\n",
              "      <td>16</td>\n",
              "      <td>0</td>\n",
              "      <td>340</td>\n",
              "      <td>361</td>\n",
              "      <td>4</td>\n",
              "      <td>343</td>\n",
              "      <td>9</td>\n",
              "      <td>103</td>\n",
              "      <td>51</td>\n",
              "      <td>22</td>\n",
              "      <td>177</td>\n",
              "      <td>105</td>\n",
              "      <td>329</td>\n",
              "      <td>338</td>\n",
              "      <td>306</td>\n",
              "      <td>275</td>\n",
              "      <td>205</td>\n",
              "      <td>89</td>\n",
              "      <td>78</td>\n",
              "      <td>1</td>\n",
              "      <td>898</td>\n",
              "      <td>797</td>\n",
              "      <td>31</td>\n",
              "      <td>226</td>\n",
              "      <td>30</td>\n",
              "      <td>273</td>\n",
              "      <td>225</td>\n",
              "      <td>51</td>\n",
              "      <td>921</td>\n",
              "    </tr>\n",
              "    <tr>\n",
              "      <th>2</th>\n",
              "      <td>05/14/2020</td>\n",
              "      <td>Thursday</td>\n",
              "      <td>4,098</td>\n",
              "      <td>772</td>\n",
              "      <td>3,326</td>\n",
              "      <td>260</td>\n",
              "      <td>805</td>\n",
              "      <td>833</td>\n",
              "      <td>685</td>\n",
              "      <td>604</td>\n",
              "      <td>471</td>\n",
              "      <td>253</td>\n",
              "      <td>171</td>\n",
              "      <td>16</td>\n",
              "      <td>2,049</td>\n",
              "      <td>1,786</td>\n",
              "      <td>263</td>\n",
              "      <td>848</td>\n",
              "      <td>55</td>\n",
              "      <td>581</td>\n",
              "      <td>510</td>\n",
              "      <td>144</td>\n",
              "      <td>1,960</td>\n",
              "      <td>48</td>\n",
              "      <td>167</td>\n",
              "      <td>153</td>\n",
              "      <td>131</td>\n",
              "      <td>107</td>\n",
              "      <td>95</td>\n",
              "      <td>42</td>\n",
              "      <td>29</td>\n",
              "      <td>0</td>\n",
              "      <td>395</td>\n",
              "      <td>362</td>\n",
              "      <td>15</td>\n",
              "      <td>319</td>\n",
              "      <td>12</td>\n",
              "      <td>151</td>\n",
              "      <td>68</td>\n",
              "      <td>35</td>\n",
              "      <td>187</td>\n",
              "      <td>212</td>\n",
              "      <td>638</td>\n",
              "      <td>680</td>\n",
              "      <td>554</td>\n",
              "      <td>497</td>\n",
              "      <td>376</td>\n",
              "      <td>211</td>\n",
              "      <td>142</td>\n",
              "      <td>16</td>\n",
              "      <td>1,654</td>\n",
              "      <td>1,424</td>\n",
              "      <td>248</td>\n",
              "      <td>529</td>\n",
              "      <td>43</td>\n",
              "      <td>430</td>\n",
              "      <td>442</td>\n",
              "      <td>109</td>\n",
              "      <td>1,773</td>\n",
              "    </tr>\n",
              "    <tr>\n",
              "      <th>3</th>\n",
              "      <td>03-05-20</td>\n",
              "      <td>Thursday</td>\n",
              "      <td>17</td>\n",
              "      <td>1</td>\n",
              "      <td>16</td>\n",
              "      <td>4</td>\n",
              "      <td>2</td>\n",
              "      <td>0</td>\n",
              "      <td>4</td>\n",
              "      <td>3</td>\n",
              "      <td>2</td>\n",
              "      <td>0</td>\n",
              "      <td>2</td>\n",
              "      <td>0</td>\n",
              "      <td>8</td>\n",
              "      <td>9</td>\n",
              "      <td>0</td>\n",
              "      <td>2</td>\n",
              "      <td>0</td>\n",
              "      <td>5</td>\n",
              "      <td>2</td>\n",
              "      <td>1</td>\n",
              "      <td>7</td>\n",
              "      <td>0</td>\n",
              "      <td>0</td>\n",
              "      <td>0</td>\n",
              "      <td>0</td>\n",
              "      <td>1</td>\n",
              "      <td>0</td>\n",
              "      <td>0</td>\n",
              "      <td>0</td>\n",
              "      <td>0</td>\n",
              "      <td>1</td>\n",
              "      <td>0</td>\n",
              "      <td>0</td>\n",
              "      <td>0</td>\n",
              "      <td>0</td>\n",
              "      <td>1</td>\n",
              "      <td>0</td>\n",
              "      <td>0</td>\n",
              "      <td>0</td>\n",
              "      <td>4</td>\n",
              "      <td>2</td>\n",
              "      <td>0</td>\n",
              "      <td>4</td>\n",
              "      <td>2</td>\n",
              "      <td>2</td>\n",
              "      <td>0</td>\n",
              "      <td>2</td>\n",
              "      <td>0</td>\n",
              "      <td>7</td>\n",
              "      <td>9</td>\n",
              "      <td>0</td>\n",
              "      <td>2</td>\n",
              "      <td>0</td>\n",
              "      <td>4</td>\n",
              "      <td>2</td>\n",
              "      <td>1</td>\n",
              "      <td>7</td>\n",
              "    </tr>\n",
              "    <tr>\n",
              "      <th>4</th>\n",
              "      <td>03-06-20</td>\n",
              "      <td>Friday</td>\n",
              "      <td>18</td>\n",
              "      <td>3</td>\n",
              "      <td>15</td>\n",
              "      <td>1</td>\n",
              "      <td>5</td>\n",
              "      <td>1</td>\n",
              "      <td>3</td>\n",
              "      <td>3</td>\n",
              "      <td>2</td>\n",
              "      <td>2</td>\n",
              "      <td>0</td>\n",
              "      <td>1</td>\n",
              "      <td>8</td>\n",
              "      <td>10</td>\n",
              "      <td>0</td>\n",
              "      <td>2</td>\n",
              "      <td>0</td>\n",
              "      <td>1</td>\n",
              "      <td>5</td>\n",
              "      <td>1</td>\n",
              "      <td>9</td>\n",
              "      <td>0</td>\n",
              "      <td>0</td>\n",
              "      <td>0</td>\n",
              "      <td>2</td>\n",
              "      <td>0</td>\n",
              "      <td>1</td>\n",
              "      <td>0</td>\n",
              "      <td>0</td>\n",
              "      <td>0</td>\n",
              "      <td>0</td>\n",
              "      <td>3</td>\n",
              "      <td>0</td>\n",
              "      <td>0</td>\n",
              "      <td>0</td>\n",
              "      <td>0</td>\n",
              "      <td>3</td>\n",
              "      <td>0</td>\n",
              "      <td>0</td>\n",
              "      <td>1</td>\n",
              "      <td>5</td>\n",
              "      <td>1</td>\n",
              "      <td>1</td>\n",
              "      <td>3</td>\n",
              "      <td>1</td>\n",
              "      <td>2</td>\n",
              "      <td>0</td>\n",
              "      <td>1</td>\n",
              "      <td>8</td>\n",
              "      <td>7</td>\n",
              "      <td>0</td>\n",
              "      <td>2</td>\n",
              "      <td>0</td>\n",
              "      <td>1</td>\n",
              "      <td>2</td>\n",
              "      <td>1</td>\n",
              "      <td>9</td>\n",
              "    </tr>\n",
              "  </tbody>\n",
              "</table>\n",
              "</div>"
            ],
            "text/plain": [
              "         Date  ... People Not-Positive - Unknown Race/Ethnicity\n",
              "0    03-01-20  ...                                            0\n",
              "1    05-02-20  ...                                          921\n",
              "2  05/14/2020  ...                                        1,773\n",
              "3    03-05-20  ...                                            7\n",
              "4    03-06-20  ...                                            9\n",
              "\n",
              "[5 rows x 59 columns]"
            ]
          },
          "metadata": {},
          "execution_count": 3
        }
      ]
    },
    {
      "cell_type": "code",
      "metadata": {
        "id": "ap0owuu30bLe",
        "colab": {
          "base_uri": "https://localhost:8080/"
        },
        "outputId": "d608758f-4486-46e1-b072-f8582015b8ef"
      },
      "source": [
        "df.shape"
      ],
      "execution_count": 4,
      "outputs": [
        {
          "output_type": "execute_result",
          "data": {
            "text/plain": [
              "(89, 59)"
            ]
          },
          "metadata": {},
          "execution_count": 4
        }
      ]
    },
    {
      "cell_type": "code",
      "metadata": {
        "id": "zZdaTiUk0fqE",
        "colab": {
          "base_uri": "https://localhost:8080/"
        },
        "outputId": "23dd86c8-a9ff-45f9-a836-840474e7a07d"
      },
      "source": [
        "df.columns"
      ],
      "execution_count": 5,
      "outputs": [
        {
          "output_type": "execute_result",
          "data": {
            "text/plain": [
              "Index(['Date', 'Day', 'Tests', 'Cases', 'People Not-Positive - Total',\n",
              "       'People Tested - Age 0-17', 'People Tested - Age 18-29',\n",
              "       'People Tested - Age 30-39', 'People Tested - Age 40-49',\n",
              "       'People Tested - Age 50-59', 'People Tested - Age 60-69',\n",
              "       'People Tested - Age 70-79', 'People Tested - Age 80+',\n",
              "       'People Tested - Age Unknown', 'People Tested - Female',\n",
              "       'People Tested - Male', 'People Tested - Gender Unknown',\n",
              "       'People Tested - Latinx', 'People Tested - Asian Non-Latinx',\n",
              "       'People Tested - Black Non-Latinx', 'People Tested - White Non-Latinx',\n",
              "       'People Tested - Other Race Non-Latinx',\n",
              "       'People Tested - Unknown Race/Ethnicity', 'People Positive - Age 0-17',\n",
              "       'People Positive - Age 18-29', 'People Positive - Age 30-30',\n",
              "       'People Positive - Age 40-49', 'People Positive - Age 50-59',\n",
              "       'People Positive - Age 60-69', 'People Positive - Age 70-79',\n",
              "       'People Positive - Age 80+', 'People Positive - Age Unknown',\n",
              "       'People Positive - Female', 'People Positive - Male',\n",
              "       'People Positive - Gender Unknown', 'People Positive - Latinx',\n",
              "       'People Positive - Asian Non-Latinx',\n",
              "       'People Positive - Black Non-Latinx',\n",
              "       'People Positive - White Non-Latinx',\n",
              "       'People Positive - Other Race Non-Latinx',\n",
              "       'People Positive - Unknown Race/Ethnicity',\n",
              "       'People Not-Positive - Age 0-17', 'People Not-Positive - Age 18-29',\n",
              "       'People Not-Positive - Age 30-39', 'People Not-Positive - Age 40-49',\n",
              "       'People Not-Positive - Age 50-59', 'People Not-Positive - Age 60-69',\n",
              "       'People Not-Positive - Age 70-79', 'People Not-Positive - Age 80+',\n",
              "       'People Not-Positive - Age Unknown', 'People Not-Positive - Female',\n",
              "       'People Not-Positive - Male', 'People Not-Positive - Gender Unknown',\n",
              "       'People Not-Positive - Latinx',\n",
              "       'People Not-Positive - Asian Non-Latinx',\n",
              "       'People Not-Positive - Black Non-Latinx',\n",
              "       'People Not-Positive - White Non-Latinx',\n",
              "       'People Not-Positive - Other Race Non-Latinx',\n",
              "       'People Not-Positive - Unknown Race/Ethnicity'],\n",
              "      dtype='object')"
            ]
          },
          "metadata": {},
          "execution_count": 5
        }
      ]
    },
    {
      "cell_type": "markdown",
      "metadata": {
        "id": "dXToiyPccf4h"
      },
      "source": [
        "# Data Wrangling and EDA \n"
      ]
    },
    {
      "cell_type": "code",
      "metadata": {
        "id": "-IXvRlig1Qjq",
        "colab": {
          "base_uri": "https://localhost:8080/"
        },
        "outputId": "3993d028-5143-4ee2-9d7b-970bb5ecbe4a"
      },
      "source": [
        "# check if there is any missing values\n",
        "df.isnull().sum()"
      ],
      "execution_count": 6,
      "outputs": [
        {
          "output_type": "execute_result",
          "data": {
            "text/plain": [
              "Date                                            1\n",
              "Day                                             1\n",
              "Tests                                           0\n",
              "Cases                                           0\n",
              "People Not-Positive - Total                     0\n",
              "People Tested - Age 0-17                        0\n",
              "People Tested - Age 18-29                       0\n",
              "People Tested - Age 30-39                       0\n",
              "People Tested - Age 40-49                       0\n",
              "People Tested - Age 50-59                       0\n",
              "People Tested - Age 60-69                       0\n",
              "People Tested - Age 70-79                       0\n",
              "People Tested - Age 80+                         0\n",
              "People Tested - Age Unknown                     0\n",
              "People Tested - Female                          0\n",
              "People Tested - Male                            0\n",
              "People Tested - Gender Unknown                  0\n",
              "People Tested - Latinx                          0\n",
              "People Tested - Asian Non-Latinx                0\n",
              "People Tested - Black Non-Latinx                0\n",
              "People Tested - White Non-Latinx                0\n",
              "People Tested - Other Race Non-Latinx           0\n",
              "People Tested - Unknown Race/Ethnicity          0\n",
              "People Positive - Age 0-17                      0\n",
              "People Positive - Age 18-29                     0\n",
              "People Positive - Age 30-30                     0\n",
              "People Positive - Age 40-49                     0\n",
              "People Positive - Age 50-59                     0\n",
              "People Positive - Age 60-69                     0\n",
              "People Positive - Age 70-79                     0\n",
              "People Positive - Age 80+                       0\n",
              "People Positive - Age Unknown                   0\n",
              "People Positive - Female                        0\n",
              "People Positive - Male                          0\n",
              "People Positive - Gender Unknown                0\n",
              "People Positive - Latinx                        0\n",
              "People Positive - Asian Non-Latinx              0\n",
              "People Positive - Black Non-Latinx              0\n",
              "People Positive - White Non-Latinx              0\n",
              "People Positive - Other Race Non-Latinx         0\n",
              "People Positive - Unknown Race/Ethnicity        0\n",
              "People Not-Positive - Age 0-17                  0\n",
              "People Not-Positive - Age 18-29                 0\n",
              "People Not-Positive - Age 30-39                 0\n",
              "People Not-Positive - Age 40-49                 0\n",
              "People Not-Positive - Age 50-59                 0\n",
              "People Not-Positive - Age 60-69                 0\n",
              "People Not-Positive - Age 70-79                 0\n",
              "People Not-Positive - Age 80+                   0\n",
              "People Not-Positive - Age Unknown               0\n",
              "People Not-Positive - Female                    0\n",
              "People Not-Positive - Male                      0\n",
              "People Not-Positive - Gender Unknown            0\n",
              "People Not-Positive - Latinx                    0\n",
              "People Not-Positive - Asian Non-Latinx          0\n",
              "People Not-Positive - Black Non-Latinx          0\n",
              "People Not-Positive - White Non-Latinx          0\n",
              "People Not-Positive - Other Race Non-Latinx     0\n",
              "People Not-Positive - Unknown Race/Ethnicity    0\n",
              "dtype: int64"
            ]
          },
          "metadata": {},
          "execution_count": 6
        }
      ]
    },
    {
      "cell_type": "code",
      "metadata": {
        "id": "vAPsO4Yq1yAj"
      },
      "source": [
        "# Dropping columns day and Date.\n",
        "df=df.drop(columns=['Date','Day'])"
      ],
      "execution_count": 7,
      "outputs": []
    },
    {
      "cell_type": "code",
      "metadata": {
        "id": "XNuZqUlI1096",
        "colab": {
          "base_uri": "https://localhost:8080/",
          "height": 330
        },
        "outputId": "90ce4324-6cdc-48ea-cde9-1f93d3e3620a"
      },
      "source": [
        "df.head()"
      ],
      "execution_count": 8,
      "outputs": [
        {
          "output_type": "execute_result",
          "data": {
            "text/html": [
              "<div>\n",
              "<style scoped>\n",
              "    .dataframe tbody tr th:only-of-type {\n",
              "        vertical-align: middle;\n",
              "    }\n",
              "\n",
              "    .dataframe tbody tr th {\n",
              "        vertical-align: top;\n",
              "    }\n",
              "\n",
              "    .dataframe thead th {\n",
              "        text-align: right;\n",
              "    }\n",
              "</style>\n",
              "<table border=\"1\" class=\"dataframe\">\n",
              "  <thead>\n",
              "    <tr style=\"text-align: right;\">\n",
              "      <th></th>\n",
              "      <th>Tests</th>\n",
              "      <th>Cases</th>\n",
              "      <th>People Not-Positive - Total</th>\n",
              "      <th>People Tested - Age 0-17</th>\n",
              "      <th>People Tested - Age 18-29</th>\n",
              "      <th>People Tested - Age 30-39</th>\n",
              "      <th>People Tested - Age 40-49</th>\n",
              "      <th>People Tested - Age 50-59</th>\n",
              "      <th>People Tested - Age 60-69</th>\n",
              "      <th>People Tested - Age 70-79</th>\n",
              "      <th>People Tested - Age 80+</th>\n",
              "      <th>People Tested - Age Unknown</th>\n",
              "      <th>People Tested - Female</th>\n",
              "      <th>People Tested - Male</th>\n",
              "      <th>People Tested - Gender Unknown</th>\n",
              "      <th>People Tested - Latinx</th>\n",
              "      <th>People Tested - Asian Non-Latinx</th>\n",
              "      <th>People Tested - Black Non-Latinx</th>\n",
              "      <th>People Tested - White Non-Latinx</th>\n",
              "      <th>People Tested - Other Race Non-Latinx</th>\n",
              "      <th>People Tested - Unknown Race/Ethnicity</th>\n",
              "      <th>People Positive - Age 0-17</th>\n",
              "      <th>People Positive - Age 18-29</th>\n",
              "      <th>People Positive - Age 30-30</th>\n",
              "      <th>People Positive - Age 40-49</th>\n",
              "      <th>People Positive - Age 50-59</th>\n",
              "      <th>People Positive - Age 60-69</th>\n",
              "      <th>People Positive - Age 70-79</th>\n",
              "      <th>People Positive - Age 80+</th>\n",
              "      <th>People Positive - Age Unknown</th>\n",
              "      <th>People Positive - Female</th>\n",
              "      <th>People Positive - Male</th>\n",
              "      <th>People Positive - Gender Unknown</th>\n",
              "      <th>People Positive - Latinx</th>\n",
              "      <th>People Positive - Asian Non-Latinx</th>\n",
              "      <th>People Positive - Black Non-Latinx</th>\n",
              "      <th>People Positive - White Non-Latinx</th>\n",
              "      <th>People Positive - Other Race Non-Latinx</th>\n",
              "      <th>People Positive - Unknown Race/Ethnicity</th>\n",
              "      <th>People Not-Positive - Age 0-17</th>\n",
              "      <th>People Not-Positive - Age 18-29</th>\n",
              "      <th>People Not-Positive - Age 30-39</th>\n",
              "      <th>People Not-Positive - Age 40-49</th>\n",
              "      <th>People Not-Positive - Age 50-59</th>\n",
              "      <th>People Not-Positive - Age 60-69</th>\n",
              "      <th>People Not-Positive - Age 70-79</th>\n",
              "      <th>People Not-Positive - Age 80+</th>\n",
              "      <th>People Not-Positive - Age Unknown</th>\n",
              "      <th>People Not-Positive - Female</th>\n",
              "      <th>People Not-Positive - Male</th>\n",
              "      <th>People Not-Positive - Gender Unknown</th>\n",
              "      <th>People Not-Positive - Latinx</th>\n",
              "      <th>People Not-Positive - Asian Non-Latinx</th>\n",
              "      <th>People Not-Positive - Black Non-Latinx</th>\n",
              "      <th>People Not-Positive - White Non-Latinx</th>\n",
              "      <th>People Not-Positive - Other Race Non-Latinx</th>\n",
              "      <th>People Not-Positive - Unknown Race/Ethnicity</th>\n",
              "    </tr>\n",
              "  </thead>\n",
              "  <tbody>\n",
              "    <tr>\n",
              "      <th>0</th>\n",
              "      <td>1</td>\n",
              "      <td>0</td>\n",
              "      <td>1</td>\n",
              "      <td>0</td>\n",
              "      <td>0</td>\n",
              "      <td>1</td>\n",
              "      <td>0</td>\n",
              "      <td>0</td>\n",
              "      <td>0</td>\n",
              "      <td>0</td>\n",
              "      <td>0</td>\n",
              "      <td>0</td>\n",
              "      <td>0</td>\n",
              "      <td>1</td>\n",
              "      <td>0</td>\n",
              "      <td>0</td>\n",
              "      <td>0</td>\n",
              "      <td>0</td>\n",
              "      <td>1</td>\n",
              "      <td>0</td>\n",
              "      <td>0</td>\n",
              "      <td>0</td>\n",
              "      <td>0</td>\n",
              "      <td>0</td>\n",
              "      <td>0</td>\n",
              "      <td>0</td>\n",
              "      <td>0</td>\n",
              "      <td>0</td>\n",
              "      <td>0</td>\n",
              "      <td>0</td>\n",
              "      <td>0</td>\n",
              "      <td>0</td>\n",
              "      <td>0</td>\n",
              "      <td>0</td>\n",
              "      <td>0</td>\n",
              "      <td>0</td>\n",
              "      <td>0</td>\n",
              "      <td>0</td>\n",
              "      <td>0</td>\n",
              "      <td>0</td>\n",
              "      <td>0</td>\n",
              "      <td>1</td>\n",
              "      <td>0</td>\n",
              "      <td>0</td>\n",
              "      <td>0</td>\n",
              "      <td>0</td>\n",
              "      <td>0</td>\n",
              "      <td>0</td>\n",
              "      <td>0</td>\n",
              "      <td>1</td>\n",
              "      <td>0</td>\n",
              "      <td>0</td>\n",
              "      <td>0</td>\n",
              "      <td>0</td>\n",
              "      <td>1</td>\n",
              "      <td>0</td>\n",
              "      <td>0</td>\n",
              "    </tr>\n",
              "    <tr>\n",
              "      <th>1</th>\n",
              "      <td>2,431</td>\n",
              "      <td>705</td>\n",
              "      <td>1,726</td>\n",
              "      <td>129</td>\n",
              "      <td>470</td>\n",
              "      <td>458</td>\n",
              "      <td>458</td>\n",
              "      <td>412</td>\n",
              "      <td>281</td>\n",
              "      <td>128</td>\n",
              "      <td>94</td>\n",
              "      <td>1</td>\n",
              "      <td>1,238</td>\n",
              "      <td>1,158</td>\n",
              "      <td>35</td>\n",
              "      <td>569</td>\n",
              "      <td>39</td>\n",
              "      <td>376</td>\n",
              "      <td>276</td>\n",
              "      <td>73</td>\n",
              "      <td>1,098</td>\n",
              "      <td>24</td>\n",
              "      <td>141</td>\n",
              "      <td>120</td>\n",
              "      <td>152</td>\n",
              "      <td>137</td>\n",
              "      <td>76</td>\n",
              "      <td>39</td>\n",
              "      <td>16</td>\n",
              "      <td>0</td>\n",
              "      <td>340</td>\n",
              "      <td>361</td>\n",
              "      <td>4</td>\n",
              "      <td>343</td>\n",
              "      <td>9</td>\n",
              "      <td>103</td>\n",
              "      <td>51</td>\n",
              "      <td>22</td>\n",
              "      <td>177</td>\n",
              "      <td>105</td>\n",
              "      <td>329</td>\n",
              "      <td>338</td>\n",
              "      <td>306</td>\n",
              "      <td>275</td>\n",
              "      <td>205</td>\n",
              "      <td>89</td>\n",
              "      <td>78</td>\n",
              "      <td>1</td>\n",
              "      <td>898</td>\n",
              "      <td>797</td>\n",
              "      <td>31</td>\n",
              "      <td>226</td>\n",
              "      <td>30</td>\n",
              "      <td>273</td>\n",
              "      <td>225</td>\n",
              "      <td>51</td>\n",
              "      <td>921</td>\n",
              "    </tr>\n",
              "    <tr>\n",
              "      <th>2</th>\n",
              "      <td>4,098</td>\n",
              "      <td>772</td>\n",
              "      <td>3,326</td>\n",
              "      <td>260</td>\n",
              "      <td>805</td>\n",
              "      <td>833</td>\n",
              "      <td>685</td>\n",
              "      <td>604</td>\n",
              "      <td>471</td>\n",
              "      <td>253</td>\n",
              "      <td>171</td>\n",
              "      <td>16</td>\n",
              "      <td>2,049</td>\n",
              "      <td>1,786</td>\n",
              "      <td>263</td>\n",
              "      <td>848</td>\n",
              "      <td>55</td>\n",
              "      <td>581</td>\n",
              "      <td>510</td>\n",
              "      <td>144</td>\n",
              "      <td>1,960</td>\n",
              "      <td>48</td>\n",
              "      <td>167</td>\n",
              "      <td>153</td>\n",
              "      <td>131</td>\n",
              "      <td>107</td>\n",
              "      <td>95</td>\n",
              "      <td>42</td>\n",
              "      <td>29</td>\n",
              "      <td>0</td>\n",
              "      <td>395</td>\n",
              "      <td>362</td>\n",
              "      <td>15</td>\n",
              "      <td>319</td>\n",
              "      <td>12</td>\n",
              "      <td>151</td>\n",
              "      <td>68</td>\n",
              "      <td>35</td>\n",
              "      <td>187</td>\n",
              "      <td>212</td>\n",
              "      <td>638</td>\n",
              "      <td>680</td>\n",
              "      <td>554</td>\n",
              "      <td>497</td>\n",
              "      <td>376</td>\n",
              "      <td>211</td>\n",
              "      <td>142</td>\n",
              "      <td>16</td>\n",
              "      <td>1,654</td>\n",
              "      <td>1,424</td>\n",
              "      <td>248</td>\n",
              "      <td>529</td>\n",
              "      <td>43</td>\n",
              "      <td>430</td>\n",
              "      <td>442</td>\n",
              "      <td>109</td>\n",
              "      <td>1,773</td>\n",
              "    </tr>\n",
              "    <tr>\n",
              "      <th>3</th>\n",
              "      <td>17</td>\n",
              "      <td>1</td>\n",
              "      <td>16</td>\n",
              "      <td>4</td>\n",
              "      <td>2</td>\n",
              "      <td>0</td>\n",
              "      <td>4</td>\n",
              "      <td>3</td>\n",
              "      <td>2</td>\n",
              "      <td>0</td>\n",
              "      <td>2</td>\n",
              "      <td>0</td>\n",
              "      <td>8</td>\n",
              "      <td>9</td>\n",
              "      <td>0</td>\n",
              "      <td>2</td>\n",
              "      <td>0</td>\n",
              "      <td>5</td>\n",
              "      <td>2</td>\n",
              "      <td>1</td>\n",
              "      <td>7</td>\n",
              "      <td>0</td>\n",
              "      <td>0</td>\n",
              "      <td>0</td>\n",
              "      <td>0</td>\n",
              "      <td>1</td>\n",
              "      <td>0</td>\n",
              "      <td>0</td>\n",
              "      <td>0</td>\n",
              "      <td>0</td>\n",
              "      <td>1</td>\n",
              "      <td>0</td>\n",
              "      <td>0</td>\n",
              "      <td>0</td>\n",
              "      <td>0</td>\n",
              "      <td>1</td>\n",
              "      <td>0</td>\n",
              "      <td>0</td>\n",
              "      <td>0</td>\n",
              "      <td>4</td>\n",
              "      <td>2</td>\n",
              "      <td>0</td>\n",
              "      <td>4</td>\n",
              "      <td>2</td>\n",
              "      <td>2</td>\n",
              "      <td>0</td>\n",
              "      <td>2</td>\n",
              "      <td>0</td>\n",
              "      <td>7</td>\n",
              "      <td>9</td>\n",
              "      <td>0</td>\n",
              "      <td>2</td>\n",
              "      <td>0</td>\n",
              "      <td>4</td>\n",
              "      <td>2</td>\n",
              "      <td>1</td>\n",
              "      <td>7</td>\n",
              "    </tr>\n",
              "    <tr>\n",
              "      <th>4</th>\n",
              "      <td>18</td>\n",
              "      <td>3</td>\n",
              "      <td>15</td>\n",
              "      <td>1</td>\n",
              "      <td>5</td>\n",
              "      <td>1</td>\n",
              "      <td>3</td>\n",
              "      <td>3</td>\n",
              "      <td>2</td>\n",
              "      <td>2</td>\n",
              "      <td>0</td>\n",
              "      <td>1</td>\n",
              "      <td>8</td>\n",
              "      <td>10</td>\n",
              "      <td>0</td>\n",
              "      <td>2</td>\n",
              "      <td>0</td>\n",
              "      <td>1</td>\n",
              "      <td>5</td>\n",
              "      <td>1</td>\n",
              "      <td>9</td>\n",
              "      <td>0</td>\n",
              "      <td>0</td>\n",
              "      <td>0</td>\n",
              "      <td>2</td>\n",
              "      <td>0</td>\n",
              "      <td>1</td>\n",
              "      <td>0</td>\n",
              "      <td>0</td>\n",
              "      <td>0</td>\n",
              "      <td>0</td>\n",
              "      <td>3</td>\n",
              "      <td>0</td>\n",
              "      <td>0</td>\n",
              "      <td>0</td>\n",
              "      <td>0</td>\n",
              "      <td>3</td>\n",
              "      <td>0</td>\n",
              "      <td>0</td>\n",
              "      <td>1</td>\n",
              "      <td>5</td>\n",
              "      <td>1</td>\n",
              "      <td>1</td>\n",
              "      <td>3</td>\n",
              "      <td>1</td>\n",
              "      <td>2</td>\n",
              "      <td>0</td>\n",
              "      <td>1</td>\n",
              "      <td>8</td>\n",
              "      <td>7</td>\n",
              "      <td>0</td>\n",
              "      <td>2</td>\n",
              "      <td>0</td>\n",
              "      <td>1</td>\n",
              "      <td>2</td>\n",
              "      <td>1</td>\n",
              "      <td>9</td>\n",
              "    </tr>\n",
              "  </tbody>\n",
              "</table>\n",
              "</div>"
            ],
            "text/plain": [
              "   Tests  ... People Not-Positive - Unknown Race/Ethnicity\n",
              "0      1  ...                                            0\n",
              "1  2,431  ...                                          921\n",
              "2  4,098  ...                                        1,773\n",
              "3     17  ...                                            7\n",
              "4     18  ...                                            9\n",
              "\n",
              "[5 rows x 57 columns]"
            ]
          },
          "metadata": {},
          "execution_count": 8
        }
      ]
    },
    {
      "cell_type": "code",
      "metadata": {
        "colab": {
          "base_uri": "https://localhost:8080/",
          "height": 313
        },
        "id": "8V4EXyD5gyFt",
        "outputId": "ebbea002-05c8-4545-bbd6-150b5b57e6bb"
      },
      "source": [
        "#sub-dataset from the original data\n",
        "df1 = df [['People Tested - Female','People Tested - Male', 'People Tested - Gender Unknown','Cases','People Positive - Latinx','People Positive - Asian Non-Latinx','People Positive - Black Non-Latinx','People Positive - White Non-Latinx','People Positive - Other Race Non-Latinx','People Positive - Unknown Race/Ethnicity']]\n",
        "df1.head()"
      ],
      "execution_count": 25,
      "outputs": [
        {
          "output_type": "execute_result",
          "data": {
            "text/html": [
              "<div>\n",
              "<style scoped>\n",
              "    .dataframe tbody tr th:only-of-type {\n",
              "        vertical-align: middle;\n",
              "    }\n",
              "\n",
              "    .dataframe tbody tr th {\n",
              "        vertical-align: top;\n",
              "    }\n",
              "\n",
              "    .dataframe thead th {\n",
              "        text-align: right;\n",
              "    }\n",
              "</style>\n",
              "<table border=\"1\" class=\"dataframe\">\n",
              "  <thead>\n",
              "    <tr style=\"text-align: right;\">\n",
              "      <th></th>\n",
              "      <th>People Tested - Female</th>\n",
              "      <th>People Tested - Male</th>\n",
              "      <th>People Tested - Gender Unknown</th>\n",
              "      <th>Cases</th>\n",
              "      <th>People Positive - Latinx</th>\n",
              "      <th>People Positive - Asian Non-Latinx</th>\n",
              "      <th>People Positive - Black Non-Latinx</th>\n",
              "      <th>People Positive - White Non-Latinx</th>\n",
              "      <th>People Positive - Other Race Non-Latinx</th>\n",
              "      <th>People Positive - Unknown Race/Ethnicity</th>\n",
              "    </tr>\n",
              "  </thead>\n",
              "  <tbody>\n",
              "    <tr>\n",
              "      <th>0</th>\n",
              "      <td>0</td>\n",
              "      <td>1</td>\n",
              "      <td>0</td>\n",
              "      <td>0</td>\n",
              "      <td>0</td>\n",
              "      <td>0</td>\n",
              "      <td>0</td>\n",
              "      <td>0</td>\n",
              "      <td>0</td>\n",
              "      <td>0</td>\n",
              "    </tr>\n",
              "    <tr>\n",
              "      <th>1</th>\n",
              "      <td>1,238</td>\n",
              "      <td>1,158</td>\n",
              "      <td>35</td>\n",
              "      <td>705</td>\n",
              "      <td>343</td>\n",
              "      <td>9</td>\n",
              "      <td>103</td>\n",
              "      <td>51</td>\n",
              "      <td>22</td>\n",
              "      <td>177</td>\n",
              "    </tr>\n",
              "    <tr>\n",
              "      <th>2</th>\n",
              "      <td>2,049</td>\n",
              "      <td>1,786</td>\n",
              "      <td>263</td>\n",
              "      <td>772</td>\n",
              "      <td>319</td>\n",
              "      <td>12</td>\n",
              "      <td>151</td>\n",
              "      <td>68</td>\n",
              "      <td>35</td>\n",
              "      <td>187</td>\n",
              "    </tr>\n",
              "    <tr>\n",
              "      <th>3</th>\n",
              "      <td>8</td>\n",
              "      <td>9</td>\n",
              "      <td>0</td>\n",
              "      <td>1</td>\n",
              "      <td>0</td>\n",
              "      <td>0</td>\n",
              "      <td>1</td>\n",
              "      <td>0</td>\n",
              "      <td>0</td>\n",
              "      <td>0</td>\n",
              "    </tr>\n",
              "    <tr>\n",
              "      <th>4</th>\n",
              "      <td>8</td>\n",
              "      <td>10</td>\n",
              "      <td>0</td>\n",
              "      <td>3</td>\n",
              "      <td>0</td>\n",
              "      <td>0</td>\n",
              "      <td>0</td>\n",
              "      <td>3</td>\n",
              "      <td>0</td>\n",
              "      <td>0</td>\n",
              "    </tr>\n",
              "  </tbody>\n",
              "</table>\n",
              "</div>"
            ],
            "text/plain": [
              "  People Tested - Female  ... People Positive - Unknown Race/Ethnicity\n",
              "0                      0  ...                                        0\n",
              "1                  1,238  ...                                      177\n",
              "2                  2,049  ...                                      187\n",
              "3                      8  ...                                        0\n",
              "4                      8  ...                                        0\n",
              "\n",
              "[5 rows x 10 columns]"
            ]
          },
          "metadata": {},
          "execution_count": 25
        }
      ]
    },
    {
      "cell_type": "code",
      "metadata": {
        "colab": {
          "base_uri": "https://localhost:8080/",
          "height": 484
        },
        "id": "aem7-ohlibC1",
        "outputId": "c93a8cef-5bac-4fef-cbfa-052ce933a6d0"
      },
      "source": [
        "# creation of the correlation matrix to observe correlation between variables.\n",
        "import seaborn as sns\n",
        "sns.heatmap(df1.corr(), annot = True)"
      ],
      "execution_count": 26,
      "outputs": [
        {
          "output_type": "execute_result",
          "data": {
            "text/plain": [
              "<matplotlib.axes._subplots.AxesSubplot at 0x7fa1ecb28e50>"
            ]
          },
          "metadata": {},
          "execution_count": 26
        },
        {
          "output_type": "display_data",
          "data": {
            "image/png": "[encoded data removed]",
            "text/plain": [
              "<Figure size 432x288 with 2 Axes>"
            ]
          },
          "metadata": {
            "needs_background": "light"
          }
        }
      ]
    },
    {
      "cell_type": "code",
      "metadata": {
        "id": "z7sGUFdO2CAo",
        "colab": {
          "base_uri": "https://localhost:8080/",
          "height": 223
        },
        "outputId": "d238a2df-f515-4aa5-8e6d-2edab956e40f"
      },
      "source": [
        "X = df[['People Tested - Female','People Tested - Male', 'People Tested - Gender Unknown','Cases']]\n",
        "X.head()"
      ],
      "execution_count": 38,
      "outputs": [
        {
          "output_type": "execute_result",
          "data": {
            "text/html": [
              "<div>\n",
              "<style scoped>\n",
              "    .dataframe tbody tr th:only-of-type {\n",
              "        vertical-align: middle;\n",
              "    }\n",
              "\n",
              "    .dataframe tbody tr th {\n",
              "        vertical-align: top;\n",
              "    }\n",
              "\n",
              "    .dataframe thead th {\n",
              "        text-align: right;\n",
              "    }\n",
              "</style>\n",
              "<table border=\"1\" class=\"dataframe\">\n",
              "  <thead>\n",
              "    <tr style=\"text-align: right;\">\n",
              "      <th></th>\n",
              "      <th>People Tested - Female</th>\n",
              "      <th>People Tested - Male</th>\n",
              "      <th>People Tested - Gender Unknown</th>\n",
              "      <th>Cases</th>\n",
              "    </tr>\n",
              "  </thead>\n",
              "  <tbody>\n",
              "    <tr>\n",
              "      <th>0</th>\n",
              "      <td>0</td>\n",
              "      <td>1</td>\n",
              "      <td>0</td>\n",
              "      <td>0</td>\n",
              "    </tr>\n",
              "    <tr>\n",
              "      <th>1</th>\n",
              "      <td>1,238</td>\n",
              "      <td>1,158</td>\n",
              "      <td>35</td>\n",
              "      <td>705</td>\n",
              "    </tr>\n",
              "    <tr>\n",
              "      <th>2</th>\n",
              "      <td>2,049</td>\n",
              "      <td>1,786</td>\n",
              "      <td>263</td>\n",
              "      <td>772</td>\n",
              "    </tr>\n",
              "    <tr>\n",
              "      <th>3</th>\n",
              "      <td>8</td>\n",
              "      <td>9</td>\n",
              "      <td>0</td>\n",
              "      <td>1</td>\n",
              "    </tr>\n",
              "    <tr>\n",
              "      <th>4</th>\n",
              "      <td>8</td>\n",
              "      <td>10</td>\n",
              "      <td>0</td>\n",
              "      <td>3</td>\n",
              "    </tr>\n",
              "  </tbody>\n",
              "</table>\n",
              "</div>"
            ],
            "text/plain": [
              "  People Tested - Female  ... Cases\n",
              "0                      0  ...     0\n",
              "1                  1,238  ...   705\n",
              "2                  2,049  ...   772\n",
              "3                      8  ...     1\n",
              "4                      8  ...     3\n",
              "\n",
              "[5 rows x 4 columns]"
            ]
          },
          "metadata": {},
          "execution_count": 38
        }
      ]
    },
    {
      "cell_type": "code",
      "metadata": {
        "colab": {
          "base_uri": "https://localhost:8080/"
        },
        "id": "HAu_cj_S2SBW",
        "outputId": "018877de-ed02-4ed7-92ef-546848c70077"
      },
      "source": [
        "X.info()"
      ],
      "execution_count": 49,
      "outputs": [
        {
          "output_type": "stream",
          "name": "stdout",
          "text": [
            "<class 'pandas.core.frame.DataFrame'>\n",
            "RangeIndex: 89 entries, 0 to 88\n",
            "Data columns (total 4 columns):\n",
            " #   Column                          Non-Null Count  Dtype \n",
            "---  ------                          --------------  ----- \n",
            " 0   People Tested - Female          89 non-null     object\n",
            " 1   People Tested - Male            89 non-null     object\n",
            " 2   People Tested - Gender Unknown  89 non-null     object\n",
            " 3   Cases                           89 non-null     object\n",
            "dtypes: object(4)\n",
            "memory usage: 2.9+ KB\n"
          ]
        }
      ]
    },
    {
      "cell_type": "code",
      "metadata": {
        "colab": {
          "base_uri": "https://localhost:8080/",
          "height": 223
        },
        "id": "gVt0y52vuaUv",
        "outputId": "af6d40ba-452e-477d-92a5-618b48b339ea"
      },
      "source": [
        "# removing commas from numerics value\n",
        "X = X.replace(',','', regex=True)\n",
        "X.head()\n"
      ],
      "execution_count": 53,
      "outputs": [
        {
          "output_type": "execute_result",
          "data": {
            "text/html": [
              "<div>\n",
              "<style scoped>\n",
              "    .dataframe tbody tr th:only-of-type {\n",
              "        vertical-align: middle;\n",
              "    }\n",
              "\n",
              "    .dataframe tbody tr th {\n",
              "        vertical-align: top;\n",
              "    }\n",
              "\n",
              "    .dataframe thead th {\n",
              "        text-align: right;\n",
              "    }\n",
              "</style>\n",
              "<table border=\"1\" class=\"dataframe\">\n",
              "  <thead>\n",
              "    <tr style=\"text-align: right;\">\n",
              "      <th></th>\n",
              "      <th>People Tested - Female</th>\n",
              "      <th>People Tested - Male</th>\n",
              "      <th>People Tested - Gender Unknown</th>\n",
              "      <th>Cases</th>\n",
              "    </tr>\n",
              "  </thead>\n",
              "  <tbody>\n",
              "    <tr>\n",
              "      <th>0</th>\n",
              "      <td>0</td>\n",
              "      <td>1</td>\n",
              "      <td>0</td>\n",
              "      <td>0</td>\n",
              "    </tr>\n",
              "    <tr>\n",
              "      <th>1</th>\n",
              "      <td>1238</td>\n",
              "      <td>1158</td>\n",
              "      <td>35</td>\n",
              "      <td>705</td>\n",
              "    </tr>\n",
              "    <tr>\n",
              "      <th>2</th>\n",
              "      <td>2049</td>\n",
              "      <td>1786</td>\n",
              "      <td>263</td>\n",
              "      <td>772</td>\n",
              "    </tr>\n",
              "    <tr>\n",
              "      <th>3</th>\n",
              "      <td>8</td>\n",
              "      <td>9</td>\n",
              "      <td>0</td>\n",
              "      <td>1</td>\n",
              "    </tr>\n",
              "    <tr>\n",
              "      <th>4</th>\n",
              "      <td>8</td>\n",
              "      <td>10</td>\n",
              "      <td>0</td>\n",
              "      <td>3</td>\n",
              "    </tr>\n",
              "  </tbody>\n",
              "</table>\n",
              "</div>"
            ],
            "text/plain": [
              "  People Tested - Female  ... Cases\n",
              "0                      0  ...     0\n",
              "1                   1238  ...   705\n",
              "2                   2049  ...   772\n",
              "3                      8  ...     1\n",
              "4                      8  ...     3\n",
              "\n",
              "[5 rows x 4 columns]"
            ]
          },
          "metadata": {},
          "execution_count": 53
        }
      ]
    },
    {
      "cell_type": "code",
      "metadata": {
        "id": "Ik7Sr9ZO4oo_"
      },
      "source": [
        ""
      ],
      "execution_count": 66,
      "outputs": []
    },
    {
      "cell_type": "code",
      "metadata": {
        "id": "FQxfk_yn2KIW",
        "colab": {
          "base_uri": "https://localhost:8080/",
          "height": 275
        },
        "outputId": "a47c3010-5777-4834-da65-adcc0da58fa5"
      },
      "source": [
        "y= df[['People Positive - Latinx','People Positive - Asian Non-Latinx','People Positive - Black Non-Latinx','People Positive - White Non-Latinx','People Positive - Other Race Non-Latinx','People Positive - Unknown Race/Ethnicity']]\n",
        "y.head()"
      ],
      "execution_count": 57,
      "outputs": [
        {
          "output_type": "execute_result",
          "data": {
            "text/html": [
              "<div>\n",
              "<style scoped>\n",
              "    .dataframe tbody tr th:only-of-type {\n",
              "        vertical-align: middle;\n",
              "    }\n",
              "\n",
              "    .dataframe tbody tr th {\n",
              "        vertical-align: top;\n",
              "    }\n",
              "\n",
              "    .dataframe thead th {\n",
              "        text-align: right;\n",
              "    }\n",
              "</style>\n",
              "<table border=\"1\" class=\"dataframe\">\n",
              "  <thead>\n",
              "    <tr style=\"text-align: right;\">\n",
              "      <th></th>\n",
              "      <th>People Positive - Latinx</th>\n",
              "      <th>People Positive - Asian Non-Latinx</th>\n",
              "      <th>People Positive - Black Non-Latinx</th>\n",
              "      <th>People Positive - White Non-Latinx</th>\n",
              "      <th>People Positive - Other Race Non-Latinx</th>\n",
              "      <th>People Positive - Unknown Race/Ethnicity</th>\n",
              "    </tr>\n",
              "  </thead>\n",
              "  <tbody>\n",
              "    <tr>\n",
              "      <th>0</th>\n",
              "      <td>0</td>\n",
              "      <td>0</td>\n",
              "      <td>0</td>\n",
              "      <td>0</td>\n",
              "      <td>0</td>\n",
              "      <td>0</td>\n",
              "    </tr>\n",
              "    <tr>\n",
              "      <th>1</th>\n",
              "      <td>343</td>\n",
              "      <td>9</td>\n",
              "      <td>103</td>\n",
              "      <td>51</td>\n",
              "      <td>22</td>\n",
              "      <td>177</td>\n",
              "    </tr>\n",
              "    <tr>\n",
              "      <th>2</th>\n",
              "      <td>319</td>\n",
              "      <td>12</td>\n",
              "      <td>151</td>\n",
              "      <td>68</td>\n",
              "      <td>35</td>\n",
              "      <td>187</td>\n",
              "    </tr>\n",
              "    <tr>\n",
              "      <th>3</th>\n",
              "      <td>0</td>\n",
              "      <td>0</td>\n",
              "      <td>1</td>\n",
              "      <td>0</td>\n",
              "      <td>0</td>\n",
              "      <td>0</td>\n",
              "    </tr>\n",
              "    <tr>\n",
              "      <th>4</th>\n",
              "      <td>0</td>\n",
              "      <td>0</td>\n",
              "      <td>0</td>\n",
              "      <td>3</td>\n",
              "      <td>0</td>\n",
              "      <td>0</td>\n",
              "    </tr>\n",
              "  </tbody>\n",
              "</table>\n",
              "</div>"
            ],
            "text/plain": [
              "   People Positive - Latinx  ...  People Positive - Unknown Race/Ethnicity\n",
              "0                         0  ...                                         0\n",
              "1                       343  ...                                       177\n",
              "2                       319  ...                                       187\n",
              "3                         0  ...                                         0\n",
              "4                         0  ...                                         0\n",
              "\n",
              "[5 rows x 6 columns]"
            ]
          },
          "metadata": {},
          "execution_count": 57
        }
      ]
    },
    {
      "cell_type": "code",
      "metadata": {
        "colab": {
          "base_uri": "https://localhost:8080/"
        },
        "id": "_ylvGxfC4tW9",
        "outputId": "ba357775-bffc-46f3-ba05-1860a281405a"
      },
      "source": [
        "y.info()"
      ],
      "execution_count": 58,
      "outputs": [
        {
          "output_type": "stream",
          "name": "stdout",
          "text": [
            "<class 'pandas.core.frame.DataFrame'>\n",
            "RangeIndex: 89 entries, 0 to 88\n",
            "Data columns (total 6 columns):\n",
            " #   Column                                    Non-Null Count  Dtype\n",
            "---  ------                                    --------------  -----\n",
            " 0   People Positive - Latinx                  89 non-null     int64\n",
            " 1   People Positive - Asian Non-Latinx        89 non-null     int64\n",
            " 2   People Positive - Black Non-Latinx        89 non-null     int64\n",
            " 3   People Positive - White Non-Latinx        89 non-null     int64\n",
            " 4   People Positive - Other Race Non-Latinx   89 non-null     int64\n",
            " 5   People Positive - Unknown Race/Ethnicity  89 non-null     int64\n",
            "dtypes: int64(6)\n",
            "memory usage: 4.3 KB\n"
          ]
        }
      ]
    },
    {
      "cell_type": "code",
      "metadata": {
        "id": "dQ-Qbk0e3vUj",
        "colab": {
          "base_uri": "https://localhost:8080/"
        },
        "outputId": "f57ab417-3713-4ecb-bce6-7ea7dff2b8cf"
      },
      "source": [
        "X.shape"
      ],
      "execution_count": 59,
      "outputs": [
        {
          "output_type": "execute_result",
          "data": {
            "text/plain": [
              "(89, 4)"
            ]
          },
          "metadata": {},
          "execution_count": 59
        }
      ]
    },
    {
      "cell_type": "code",
      "metadata": {
        "id": "TNYs0GNm4K5O",
        "colab": {
          "base_uri": "https://localhost:8080/"
        },
        "outputId": "c2c32e87-53f0-4bab-f100-18af64af16c5"
      },
      "source": [
        "y.shape"
      ],
      "execution_count": 60,
      "outputs": [
        {
          "output_type": "execute_result",
          "data": {
            "text/plain": [
              "(89, 6)"
            ]
          },
          "metadata": {},
          "execution_count": 60
        }
      ]
    },
    {
      "cell_type": "markdown",
      "metadata": {
        "id": "vUbZP5tccvEp"
      },
      "source": [
        "# Linear Regression"
      ]
    },
    {
      "cell_type": "code",
      "metadata": {
        "id": "g-isLW6s4XaJ"
      },
      "source": [
        "from sklearn.linear_model import LinearRegression\n",
        "linReg = LinearRegression()"
      ],
      "execution_count": 61,
      "outputs": []
    },
    {
      "cell_type": "code",
      "metadata": {
        "id": "yKryzOu25uDi"
      },
      "source": [
        "from sklearn.model_selection import train_test_split\n",
        "x_train, x_test, y_train, y_test = train_test_split(X,y)"
      ],
      "execution_count": 62,
      "outputs": []
    },
    {
      "cell_type": "code",
      "metadata": {
        "id": "xSjQW7Gm8_cO",
        "colab": {
          "base_uri": "https://localhost:8080/"
        },
        "outputId": "eb3e857e-4ef1-4953-fa0f-ca5424eea106"
      },
      "source": [
        "print(x_train.shape)\n",
        "print(x_test.shape)\n",
        "print(y_train.shape)\n",
        "print(y_test.shape)"
      ],
      "execution_count": 63,
      "outputs": [
        {
          "output_type": "stream",
          "name": "stdout",
          "text": [
            "(66, 4)\n",
            "(23, 4)\n",
            "(66, 6)\n",
            "(23, 6)\n"
          ]
        }
      ]
    },
    {
      "cell_type": "code",
      "metadata": {
        "id": "PK0Tq2qs-JTJ",
        "colab": {
          "base_uri": "https://localhost:8080/"
        },
        "outputId": "ede0f06d-2ebd-4841-de27-ea0fa7d4a940"
      },
      "source": [
        "# checking if there is a relationship between X and y.\n",
        "linReg.fit(x_train,y_train)"
      ],
      "execution_count": 64,
      "outputs": [
        {
          "output_type": "execute_result",
          "data": {
            "text/plain": [
              "LinearRegression(copy_X=True, fit_intercept=True, n_jobs=None, normalize=False)"
            ]
          },
          "metadata": {},
          "execution_count": 64
        }
      ]
    },
    {
      "cell_type": "code",
      "metadata": {
        "id": "CvPTpg6T-p15",
        "colab": {
          "base_uri": "https://localhost:8080/"
        },
        "outputId": "4592e131-4b7d-4616-8e93-b6c3b33c0c94"
      },
      "source": [
        "print(linReg.intercept_)"
      ],
      "execution_count": 67,
      "outputs": [
        {
          "output_type": "stream",
          "name": "stdout",
          "text": [
            "[-42.25901071   4.0343235   44.0778022   18.58855769  -1.48396137\n",
            " -22.95771131]\n"
          ]
        }
      ]
    },
    {
      "cell_type": "code",
      "metadata": {
        "id": "g14xWA8g_6nZ",
        "colab": {
          "base_uri": "https://localhost:8080/"
        },
        "outputId": "7f8ad4a4-0625-4d9f-8922-a8530cf9b707"
      },
      "source": [
        "print(linReg.coef_)"
      ],
      "execution_count": 68,
      "outputs": [
        {
          "output_type": "stream",
          "name": "stdout",
          "text": [
            "[[-0.06852325  0.11917443  0.15786688  0.36334698]\n",
            " [ 0.00401063 -0.00925857 -0.02635844  0.02688123]\n",
            " [ 0.09799897 -0.14678096 -0.24570091  0.24580267]\n",
            " [ 0.04217329 -0.06212292 -0.09379314  0.11550957]\n",
            " [-0.01223611  0.00712074  0.00949479  0.05793988]\n",
            " [-0.06342352  0.09186728  0.19849082  0.19051969]]\n"
          ]
        }
      ]
    },
    {
      "cell_type": "code",
      "metadata": {
        "id": "QDc2omEP_-qS",
        "colab": {
          "base_uri": "https://localhost:8080/"
        },
        "outputId": "b9ee0b55-2557-44a9-fb35-fef413f66246"
      },
      "source": [
        "y_pred = linReg.predict(x_test)\n",
        "y_pred"
      ],
      "execution_count": 69,
      "outputs": [
        {
          "output_type": "execute_result",
          "data": {
            "text/plain": [
              "array([[ 2.45230532e+01,  4.38383270e+00,  5.39953906e+01,\n",
              "         2.47637920e+01,  1.14714583e+00,  1.11867856e+01],\n",
              "       [-4.20802082e+01,  3.99417467e+00,  4.41296291e+01,\n",
              "         1.86244255e+01, -1.63611394e+00, -2.30319071e+01],\n",
              "       [ 3.39413304e+02,  1.24220180e+01,  1.53778703e+02,\n",
              "         7.77513216e+01,  2.86717913e+01,  1.84962862e+02],\n",
              "       [ 3.15560991e+01,  7.17736785e+00,  7.40603971e+01,\n",
              "         3.34600078e+01,  6.69661789e+00,  1.60495102e+01],\n",
              "       [ 8.63805419e+01,  9.49476170e+00,  9.41826663e+01,\n",
              "         4.35495365e+01,  1.33090655e+01,  4.60834281e+01],\n",
              "       [ 1.61322699e+02,  1.23596111e+01,  1.19417240e+02,\n",
              "         5.62954251e+01,  2.14650873e+01,  8.61399377e+01],\n",
              "       [ 2.68748879e+02,  1.41073731e+01,  1.38209981e+02,\n",
              "         6.77540301e+01,  3.14364706e+01,  1.49743266e+02],\n",
              "       [ 3.84736617e+02,  2.14557252e+01,  2.11468011e+02,\n",
              "         1.02498211e+02,  4.66323617e+01,  2.08209074e+02],\n",
              "       [-4.13712799e+01,  4.00996265e+00,  4.37865680e+01,\n",
              "         1.84823473e+01, -1.45982370e+00, -2.24477743e+01],\n",
              "       [-4.16843767e+01,  4.14056694e+00,  4.55996369e+01,\n",
              "         1.92747467e+01, -1.43049748e+00, -2.29000764e+01],\n",
              "       [ 1.12270975e+02,  9.35630953e+00,  8.93182067e+01,\n",
              "         4.21827394e+01,  1.60866978e+01,  6.37850715e+01],\n",
              "       [ 4.67870437e+02,  2.22088963e+01,  2.34023256e+02,\n",
              "         1.15582757e+02,  5.21700489e+01,  2.57144605e+02],\n",
              "       [ 2.56819743e+02,  1.69802933e+01,  1.66355224e+02,\n",
              "         7.95074669e+01,  3.37538386e+01,  1.39583434e+02],\n",
              "       [ 1.89221069e+02,  1.36781259e+01,  1.36059000e+02,\n",
              "         6.43584839e+01,  2.39750484e+01,  9.97082728e+01],\n",
              "       [ 1.98497489e+02,  1.58320241e+01,  1.61266598e+02,\n",
              "         7.56682029e+01,  2.64252541e+01,  1.02310432e+02],\n",
              "       [ 1.38113209e+02,  1.19232164e+01,  1.19962149e+02,\n",
              "         5.60367418e+01,  1.84542924e+01,  7.15103909e+01],\n",
              "       [ 1.73129166e+02,  1.03458261e+01,  1.01234771e+02,\n",
              "         4.90977913e+01,  2.07464205e+01,  9.74460246e+01],\n",
              "       [ 2.55780503e+02,  2.98700113e+00,  4.85842882e+01,\n",
              "         3.00241884e+01,  1.66670577e+01,  1.53956962e+02],\n",
              "       [ 3.98244600e+02,  1.70232629e+01,  1.80896511e+02,\n",
              "         8.99944169e+01,  3.92523893e+01,  2.14588820e+02],\n",
              "       [ 4.35956023e+02,  1.95322655e+01,  2.00374440e+02,\n",
              "         1.00469712e+02,  5.08575332e+01,  2.49810026e+02],\n",
              "       [-2.29875342e+01,  3.94261216e+00,  4.22919616e+01,\n",
              "         1.84443243e+01,  3.55888749e-01, -1.00472525e+01],\n",
              "       [ 3.28783494e+02,  2.00288894e+01,  2.01436925e+02,\n",
              "         9.64842431e+01,  3.94259564e+01,  1.72840492e+02],\n",
              "       [ 4.18652020e+02,  1.57804900e+01,  1.64995944e+02,\n",
              "         8.43020494e+01,  4.30484256e+01,  2.37221071e+02]])"
            ]
          },
          "metadata": {},
          "execution_count": 69
        }
      ]
    },
    {
      "cell_type": "code",
      "metadata": {
        "id": "-PtteplsAWT-",
        "colab": {
          "base_uri": "https://localhost:8080/"
        },
        "outputId": "2d18dc46-306f-4eb2-8e0a-e1e56c4dd0a8"
      },
      "source": [
        "print('Actual Values', y_test.values[0:10])"
      ],
      "execution_count": 70,
      "outputs": [
        {
          "output_type": "stream",
          "name": "stdout",
          "text": [
            "Actual Values [[ 38   1  36   6   0  39]\n",
            " [  0   0   0   0   0   0]\n",
            " [359  22 127  48  27 214]\n",
            " [ 22   6  82  47   8   4]\n",
            " [ 68  11 112  53  13  36]\n",
            " [139  20 169  53  25  51]\n",
            " [229  14 195  90  29 113]\n",
            " [394  26 240 112  45 158]\n",
            " [  0   0   1   0   0   0]\n",
            " [  0   0   2   1   0   0]]\n"
          ]
        }
      ]
    },
    {
      "cell_type": "code",
      "metadata": {
        "colab": {
          "base_uri": "https://localhost:8080/"
        },
        "id": "qTEXuZMb6Ojf",
        "outputId": "c31e3b0e-8349-44b4-92ff-85e5369f421a"
      },
      "source": [
        "print('predicted value', y_pred[0:10])"
      ],
      "execution_count": 71,
      "outputs": [
        {
          "output_type": "stream",
          "name": "stdout",
          "text": [
            "predicted value [[ 24.52305322   4.3838327   53.99539061  24.76379203   1.14714583\n",
            "   11.18678561]\n",
            " [-42.08020821   3.99417467  44.12962911  18.62442545  -1.63611394\n",
            "  -23.03190709]\n",
            " [339.41330434  12.422018   153.77870289  77.75132165  28.6717913\n",
            "  184.96286183]\n",
            " [ 31.55609914   7.17736785  74.06039715  33.46000775   6.69661789\n",
            "   16.04951022]\n",
            " [ 86.38054187   9.4947617   94.18266634  43.54953647  13.30906554\n",
            "   46.08342808]\n",
            " [161.32269887  12.35961107 119.41723998  56.29542511  21.46508729\n",
            "   86.13993768]\n",
            " [268.74887861  14.10737314 138.20998119  67.75403006  31.43647065\n",
            "  149.74326634]\n",
            " [384.73661685  21.45572524 211.46801136 102.49821132  46.63236167\n",
            "  208.20907357]\n",
            " [-41.37127991   4.00996265  43.786568    18.48234726  -1.4598237\n",
            "  -22.44777429]\n",
            " [-41.6843767    4.14056694  45.59963692  19.27474672  -1.43049748\n",
            "  -22.9000764 ]]\n"
          ]
        }
      ]
    },
    {
      "cell_type": "code",
      "metadata": {
        "colab": {
          "base_uri": "https://localhost:8080/"
        },
        "id": "i8X75-VC6W6C",
        "outputId": "5dc783bd-aaf9-4b78-9823-c19101c2df19"
      },
      "source": [
        "from sklearn import metrics\n",
        "mse = metrics.mean_squared_error(y_test,y_pred)\n",
        "mse"
      ],
      "execution_count": 72,
      "outputs": [
        {
          "output_type": "execute_result",
          "data": {
            "text/plain": [
              "814.0597203303187"
            ]
          },
          "metadata": {},
          "execution_count": 72
        }
      ]
    },
    {
      "cell_type": "code",
      "metadata": {
        "colab": {
          "base_uri": "https://localhost:8080/"
        },
        "id": "suIEPpkI6d-S",
        "outputId": "4cde9032-8d48-43d3-f347-628b0f69ab6c"
      },
      "source": [
        "np.sqrt(mse)"
      ],
      "execution_count": 73,
      "outputs": [
        {
          "output_type": "execute_result",
          "data": {
            "text/plain": [
              "28.53173181442582"
            ]
          },
          "metadata": {},
          "execution_count": 73
        }
      ]
    },
    {
      "cell_type": "code",
      "metadata": {
        "colab": {
          "base_uri": "https://localhost:8080/"
        },
        "id": "e9ki8lx26mwW",
        "outputId": "802e14c4-0c52-4cb2-a7cf-12227340cf0b"
      },
      "source": [
        "r2 = metrics.r2_score(y_test,y_pred)\n",
        "r2"
      ],
      "execution_count": 75,
      "outputs": [
        {
          "output_type": "execute_result",
          "data": {
            "text/plain": [
              "0.8139562964020239"
            ]
          },
          "metadata": {},
          "execution_count": 75
        }
      ]
    },
    {
      "cell_type": "code",
      "metadata": {
        "colab": {
          "base_uri": "https://localhost:8080/",
          "height": 284
        },
        "id": "wUwaJVJe6wFk",
        "outputId": "885b6428-3ee7-440b-f37e-ef3cd889b976"
      },
      "source": [
        "plt.scatter(y_test,y_pred)"
      ],
      "execution_count": 76,
      "outputs": [
        {
          "output_type": "execute_result",
          "data": {
            "text/plain": [
              "<matplotlib.collections.PathCollection at 0x7fa1e769f390>"
            ]
          },
          "metadata": {},
          "execution_count": 76
        },
        {
          "output_type": "display_data",
          "data": {
            "image/png": "[encoded data removed]",
            "text/plain": [
              "<Figure size 432x288 with 1 Axes>"
            ]
          },
          "metadata": {
            "needs_background": "light"
          }
        }
      ]
    },
    {
      "cell_type": "code",
      "metadata": {
        "id": "1zjzzXWe635I"
      },
      "source": [
        ""
      ],
      "execution_count": 77,
      "outputs": []
    },
    {
      "cell_type": "markdown",
      "metadata": {
        "id": "IKuLfv3SF27O"
      },
      "source": [
        "# Task4: Understand NY covid 19 data in last 30 days"
      ]
    },
    {
      "cell_type": "code",
      "metadata": {
        "id": "280y4sHrAyuk"
      },
      "source": [
        "ny_cases_30 = ny_df['cases'][-31:-1]\n",
        "ny_deaths_30 = ny_df['deaths'] [-31:-1]\n",
        "ny_dates_30 = ny_df['date'][-31:-1]\n",
        "ny_new_cases_30 = ny_df['new_cases'][-31:-1]"
      ],
      "execution_count": null,
      "outputs": []
    },
    {
      "cell_type": "code",
      "metadata": {
        "id": "BUDcyVRwHY6F"
      },
      "source": [
        "# ny_dates_30"
      ],
      "execution_count": null,
      "outputs": []
    },
    {
      "cell_type": "code",
      "metadata": {
        "id": "MrRo6IcSHa6F",
        "colab": {
          "base_uri": "https://localhost:8080/",
          "height": 496
        },
        "outputId": "d7fb7813-e482-40e9-d49b-0f1e49e758be"
      },
      "source": [
        "plt.figure(figsize=(15,7))\n",
        "plt.bar(x=ny_dates_30, height=ny_new_cases_30, color='red')\n",
        "plt.xticks(rotation=90)\n",
        "plt.show()"
      ],
      "execution_count": null,
      "outputs": [
        {
          "output_type": "display_data",
          "data": {
            "image/png": "[encoded data removed]",
            "text/plain": [
              "<Figure size 1080x504 with 1 Axes>"
            ]
          },
          "metadata": {
            "tags": [],
            "needs_background": "light"
          }
        }
      ]
    },
    {
      "cell_type": "code",
      "metadata": {
        "colab": {
          "base_uri": "https://localhost:8080/",
          "height": 459
        },
        "id": "TG0hPnVKm0E0",
        "outputId": "4181f9da-a01d-4194-e67c-8b5762f97d52"
      },
      "source": [
        "plt.figure(figsize=(15,7))\n",
        "plt.bar(x=ny_dates_30, height=ny_deaths_30, color='blue')\n",
        "plt.xticks(rotation=90)\n",
        "plt.show()"
      ],
      "execution_count": null,
      "outputs": [
        {
          "output_type": "display_data",
          "data": {
            "image/png": "[encoded data removed]",
            "text/plain": [
              "<Figure size 1080x504 with 1 Axes>"
            ]
          },
          "metadata": {
            "tags": [],
            "needs_background": "light"
          }
        }
      ]
    },
    {
      "cell_type": "markdown",
      "metadata": {
        "id": "PtjNZZmOdAhy"
      },
      "source": [
        "# Comparing Covid 19 data with different states"
      ]
    },
    {
      "cell_type": "markdown",
      "metadata": {
        "id": "HInHQMh0dHvu"
      },
      "source": [
        "Let's compare the Covid 19 cases after July for states: New York, California, Florida, Texas, Arizona"
      ]
    },
    {
      "cell_type": "code",
      "metadata": {
        "id": "vu_eV2RmHvyO"
      },
      "source": [
        "states = ['New York', 'California','Florida', 'Texas','Arizona']"
      ],
      "execution_count": null,
      "outputs": []
    },
    {
      "cell_type": "code",
      "metadata": {
        "id": "2xVCN1IBInu0",
        "colab": {
          "base_uri": "https://localhost:8080/",
          "height": 478
        },
        "outputId": "d6021c7e-1662-41db-a592-5ef41f094187"
      },
      "source": [
        "plt.figure(figsize=(15,7))\n",
        "for state in states:\n",
        "  df_st = df[(df['state']==state) & (df['date']>='2020-11-01')]\n",
        "  plt.plot(df_st['date'],\n",
        "           df_st['cases'],\n",
        "           linewidth=2\n",
        "           )\n",
        "  plt.xticks(rotation=90)\n",
        "plt.legend(states)\n",
        "plt.show()\n"
      ],
      "execution_count": null,
      "outputs": [
        {
          "output_type": "display_data",
          "data": {
            "image/png": "[encoded data removed]",
            "text/plain": [
              "<Figure size 1080x504 with 1 Axes>"
            ]
          },
          "metadata": {
            "tags": [],
            "needs_background": "light"
          }
        }
      ]
    },
    {
      "cell_type": "markdown",
      "metadata": {
        "id": "Hwch-J5PIHA1"
      },
      "source": [
        "# Conclusion"
      ]
    },
    {
      "cell_type": "markdown",
      "metadata": {
        "id": "q5G5KP6CINBS"
      },
      "source": [
        "Below are the conclusions:\n",
        "\n",
        "\n",
        "\n",
        "1.   Conclusion 1\n",
        "     --Your text here\n",
        "2.   Conclusion 2\n",
        "     --Your text here>\n",
        "\n"
      ]
    },
    {
      "cell_type": "code",
      "metadata": {
        "id": "GCwtlBzLB9CU"
      },
      "source": [
        ""
      ],
      "execution_count": null,
      "outputs": []
    }
  ]
}