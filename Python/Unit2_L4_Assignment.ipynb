{
  "nbformat": 4,
  "nbformat_minor": 0,
  "metadata": {
    "colab": {
      "name": "Unit2_L4_Assignment.ipynb",
      "provenance": [],
      "authorship_tag": "ABX9TyMW/+ZpYluDzLVwe0J+vna6",
      "include_colab_link": true
    },
    "kernelspec": {
      "name": "python3",
      "display_name": "Python 3"
    },
    "language_info": {
      "name": "python"
    }
  },
  "cells": [
    {
      "cell_type": "markdown",
      "metadata": {
        "id": "view-in-github",
        "colab_type": "text"
      },
      "source": [
        "<a href=\"https://colab.research.google.com/github/robajo12/data_analytics_2/blob/main/Python/Unit2_L4_Assignment.ipynb\" target=\"_parent\"><img src=\"https://colab.research.google.com/assets/colab-badge.svg\" alt=\"Open In Colab\"/></a>"
      ]
    },
    {
      "cell_type": "code",
      "metadata": {
        "id": "sQsh2abGNgNP"
      },
      "source": [
        ""
      ],
      "execution_count": null,
      "outputs": []
    },
    {
      "cell_type": "markdown",
      "metadata": {
        "id": "PD__FApvN-qA"
      },
      "source": [
        "1/ Create a list that holds 5 data variables. "
      ]
    },
    {
      "cell_type": "code",
      "metadata": {
        "id": "FJm2T8uMODiP"
      },
      "source": [
        "food =['mango', 'grapes', 'blueberries', 'apple','coconut']\n"
      ],
      "execution_count": null,
      "outputs": []
    },
    {
      "cell_type": "markdown",
      "metadata": {
        "id": "JrBsl2h3OkSk"
      },
      "source": [
        "2/ Print out those variables by using a for loop."
      ]
    },
    {
      "cell_type": "code",
      "metadata": {
        "colab": {
          "base_uri": "https://localhost:8080/"
        },
        "id": "OR9HfOLpOmty",
        "outputId": "58fadf02-15ad-4820-91f9-012b4445d3c1"
      },
      "source": [
        "fruits =['mango', 'grapes', 'blueberries', 'apple','coconut']\n",
        "for fd in fruits:\n",
        "    print(fd)"
      ],
      "execution_count": 3,
      "outputs": [
        {
          "output_type": "stream",
          "text": [
            "mango\n",
            "grapes\n",
            "blueberries\n",
            "apple\n",
            "coconut\n"
          ],
          "name": "stdout"
        }
      ]
    },
    {
      "cell_type": "markdown",
      "metadata": {
        "id": "--X23V1AQGqS"
      },
      "source": [
        "3/ Modify your for loop to add a message to your for loop."
      ]
    },
    {
      "cell_type": "code",
      "metadata": {
        "colab": {
          "base_uri": "https://localhost:8080/"
        },
        "id": "afa1xh8mQJkP",
        "outputId": "5ceecddb-49a1-44b5-b5b9-8e3144646f01"
      },
      "source": [
        "fruits =['mango', 'grapes', 'blueberries', 'apple','coconut']\n",
        "for fd in fruits:\n",
        "  if fd != 'coconut':\n",
        "     print(\"I like \" + fd + \", \")\n",
        "  else:\n",
        "      print(\"but \" + fd.title() + \" is my favorite fruit.\")\n",
        "     "
      ],
      "execution_count": 21,
      "outputs": [
        {
          "output_type": "stream",
          "text": [
            "I like mango, \n",
            "I like grapes, \n",
            "I like blueberries, \n",
            "I like apple, \n",
            "but Coconut is my favorite fruit.\n"
          ],
          "name": "stdout"
        }
      ]
    },
    {
      "cell_type": "markdown",
      "metadata": {
        "id": "yilMWow9Va_U"
      },
      "source": [
        "4/ Use a for loop to print even numbers from 1-20."
      ]
    },
    {
      "cell_type": "code",
      "metadata": {
        "colab": {
          "base_uri": "https://localhost:8080/"
        },
        "id": "yrE9kD9MVdjE",
        "outputId": "7605f873-7ded-4fcd-98cc-224d9c6dd37e"
      },
      "source": [
        "for n in range(1,21):\n",
        "  if n%2==0:\n",
        "    print (n)"
      ],
      "execution_count": 22,
      "outputs": [
        {
          "output_type": "stream",
          "text": [
            "2\n",
            "4\n",
            "6\n",
            "8\n",
            "10\n",
            "12\n",
            "14\n",
            "16\n",
            "18\n",
            "20\n"
          ],
          "name": "stdout"
        }
      ]
    },
    {
      "cell_type": "markdown",
      "metadata": {
        "id": "H4yufpLpVzJ3"
      },
      "source": [
        "5/ Sort your list in alphabetic order."
      ]
    },
    {
      "cell_type": "code",
      "metadata": {
        "colab": {
          "base_uri": "https://localhost:8080/"
        },
        "id": "ZbfSjLjgV4xh",
        "outputId": "7487435c-8fe6-4bee-c259-dfd0f77ebcba"
      },
      "source": [
        "fruits =['mango', 'grapes', 'blueberries', 'apple','coconut']\n",
        "print(sorted(fruits))"
      ],
      "execution_count": 33,
      "outputs": [
        {
          "output_type": "stream",
          "text": [
            "['apple', 'blueberries', 'coconut', 'grapes', 'mango']\n"
          ],
          "name": "stdout"
        }
      ]
    },
    {
      "cell_type": "markdown",
      "metadata": {
        "id": "NGwboyxOYmOG"
      },
      "source": [
        "6/ Print out the first three elements of your list."
      ]
    },
    {
      "cell_type": "code",
      "metadata": {
        "colab": {
          "base_uri": "https://localhost:8080/"
        },
        "id": "JtAzITvgYoiF",
        "outputId": "993e5808-5971-4fd0-a6e2-9212ed04e61b"
      },
      "source": [
        "fruits =['mango', 'grapes', 'blueberries', 'apple','coconut']\n",
        "print(fruits[ :3])"
      ],
      "execution_count": 34,
      "outputs": [
        {
          "output_type": "stream",
          "text": [
            "['mango', 'grapes', 'blueberries']\n"
          ],
          "name": "stdout"
        }
      ]
    },
    {
      "cell_type": "markdown",
      "metadata": {
        "id": "-y7FpavJY-VV"
      },
      "source": [
        "7/ \tCreate a loop to print the last 2 elements of your list."
      ]
    },
    {
      "cell_type": "code",
      "metadata": {
        "colab": {
          "base_uri": "https://localhost:8080/"
        },
        "id": "HC32IYXaZDWp",
        "outputId": "695e5962-52ba-4f19-df15-1dae18ce240a"
      },
      "source": [
        "fruits =['mango', 'grapes', 'blueberries', 'apple','coconut']\n",
        "print(fruits[ -2:])\n"
      ],
      "execution_count": 45,
      "outputs": [
        {
          "output_type": "stream",
          "text": [
            "['apple', 'coconut']\n"
          ],
          "name": "stdout"
        }
      ]
    }
  ]
}