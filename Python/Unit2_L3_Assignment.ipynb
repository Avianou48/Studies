{
  "nbformat": 4,
  "nbformat_minor": 0,
  "metadata": {
    "colab": {
      "name": "Unit2_L3_Assignment.ipynb",
      "provenance": []
    },
    "kernelspec": {
      "name": "python3",
      "display_name": "Python 3"
    },
    "language_info": {
      "name": "python"
    }
  },
  "cells": [
    {
      "cell_type": "code",
      "metadata": {
        "id": "gWba1z3OUap6"
      },
      "source": [
        ""
      ],
      "execution_count": null,
      "outputs": []
    },
    {
      "cell_type": "markdown",
      "metadata": {
        "id": "zL_YBu2VUvaH"
      },
      "source": [
        "1/ Create a list of 5 of your favorite tv shows.  "
      ]
    },
    {
      "cell_type": "code",
      "metadata": {
        "id": "yqp08s9DUykp"
      },
      "source": [
        "lst = [\"AGT\",\"The Voice\", \"Idol\", \"The Chase\", \"The Good fight\"]"
      ],
      "execution_count": 9,
      "outputs": []
    },
    {
      "cell_type": "markdown",
      "metadata": {
        "id": "EVQsTgOSWOlw"
      },
      "source": [
        "2/ Print the list in its original order."
      ]
    },
    {
      "cell_type": "code",
      "metadata": {
        "colab": {
          "base_uri": "https://localhost:8080/"
        },
        "id": "gcvhSDzHWYM9",
        "outputId": "24e5d4cb-f272-4337-e9ec-2a1cafea2f7b"
      },
      "source": [
        "print(lst)"
      ],
      "execution_count": 10,
      "outputs": [
        {
          "output_type": "stream",
          "text": [
            "['AGT', 'The Voice', 'Idol', 'The Chase', 'The Good fight']\n"
          ],
          "name": "stdout"
        }
      ]
    },
    {
      "cell_type": "markdown",
      "metadata": {
        "id": "Q1HxrhxVWdFp"
      },
      "source": [
        "3/ Use the sorted() function to print the list in alphabetical order.  How is sorted() different from sort()?\n"
      ]
    },
    {
      "cell_type": "code",
      "metadata": {
        "colab": {
          "base_uri": "https://localhost:8080/"
        },
        "id": "OFyzLEWfXnAj",
        "outputId": "d093adf9-3a85-413f-97f2-111c65028821"
      },
      "source": [
        "print(sorted(lst))\n"
      ],
      "execution_count": 11,
      "outputs": [
        {
          "output_type": "stream",
          "text": [
            "['AGT', 'Idol', 'The Chase', 'The Good fight', 'The Voice']\n"
          ],
          "name": "stdout"
        }
      ]
    },
    {
      "cell_type": "markdown",
      "metadata": {
        "id": "wPYHNNKpYeUP"
      },
      "source": [
        "Sorted() function temporarily sort the list while sort() sort it permanently.\n",
        "\n",
        "4/Print out your original list."
      ]
    },
    {
      "cell_type": "code",
      "metadata": {
        "colab": {
          "base_uri": "https://localhost:8080/"
        },
        "id": "SmKk-fSiZdRP",
        "outputId": "be1fece1-336d-4ed9-a0a7-fedb3b83a00c"
      },
      "source": [
        "print(lst)"
      ],
      "execution_count": 12,
      "outputs": [
        {
          "output_type": "stream",
          "text": [
            "['AGT', 'The Voice', 'Idol', 'The Chase', 'The Good fight']\n"
          ],
          "name": "stdout"
        }
      ]
    },
    {
      "cell_type": "markdown",
      "metadata": {
        "id": "a2H2myOhZqnv"
      },
      "source": [
        "5/ Used sorted() to print your list in reverse alphabetical order."
      ]
    },
    {
      "cell_type": "code",
      "metadata": {
        "colab": {
          "base_uri": "https://localhost:8080/"
        },
        "id": "rbM5vVPIZ784",
        "outputId": "157eaf34-1e7b-444c-cc11-dd0a97933a5e"
      },
      "source": [
        "print(sorted(lst, reverse = True))\n"
      ],
      "execution_count": 13,
      "outputs": [
        {
          "output_type": "stream",
          "text": [
            "['The Voice', 'The Good fight', 'The Chase', 'Idol', 'AGT']\n"
          ],
          "name": "stdout"
        }
      ]
    },
    {
      "cell_type": "markdown",
      "metadata": {
        "id": "NFMt0ZKGcecS"
      },
      "source": [
        "6/ Create a message indicating how many favorite TV shows you have – use the len() function."
      ]
    },
    {
      "cell_type": "code",
      "metadata": {
        "colab": {
          "base_uri": "https://localhost:8080/"
        },
        "id": "cMr_cxXecwKh",
        "outputId": "46c7d92d-a09c-4dd3-cf2d-73d7c861bca9"
      },
      "source": [
        "x=len(lst)\n",
        "message = \"There are \" + str(x) + \" favorite TV shows.\"\n",
        "print(message)"
      ],
      "execution_count": 15,
      "outputs": [
        {
          "output_type": "stream",
          "text": [
            "There are 5 favorite TV shows.\n"
          ],
          "name": "stdout"
        }
      ]
    }
  ]
}