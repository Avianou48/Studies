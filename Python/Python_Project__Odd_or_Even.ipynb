{
  "nbformat": 4,
  "nbformat_minor": 0,
  "metadata": {
    "colab": {
      "name": "Python_Project _Odd_or_Even.ipynb",
      "provenance": [],
      "authorship_tag": "ABX9TyOYEgZhVg5NBdW+Fol1TG8x",
      "include_colab_link": true
    },
    "kernelspec": {
      "name": "python3",
      "display_name": "Python 3"
    },
    "language_info": {
      "name": "python"
    }
  },
  "cells": [
    {
      "cell_type": "markdown",
      "metadata": {
        "id": "view-in-github",
        "colab_type": "text"
      },
      "source": [
        "<a href=\"https://colab.research.google.com/github/robajo12/data_analytics_2/blob/main/Python/Python_Project__Odd_or_Even.ipynb\" target=\"_parent\"><img src=\"https://colab.research.google.com/assets/colab-badge.svg\" alt=\"Open In Colab\"/></a>"
      ]
    },
    {
      "cell_type": "code",
      "metadata": {
        "id": "hu5olRups21x"
      },
      "source": [
        ""
      ],
      "execution_count": null,
      "outputs": []
    },
    {
      "cell_type": "markdown",
      "metadata": {
        "id": "1CHbxDe8ufca"
      },
      "source": [
        "# Ask the user for a number "
      ]
    },
    {
      "cell_type": "code",
      "metadata": {
        "colab": {
          "base_uri": "https://localhost:8080/"
        },
        "id": "Z37XFzVzul7J",
        "outputId": "3abc78cf-d244-444d-c9e9-f09d7c08ada8"
      },
      "source": [
        "# Ask User input\n",
        "num = int (input(\"Enter a number: \"))\n",
        "#test the number and print the corresponding information.\n",
        "if ( (num) < 0):\n",
        "    print(\"This code test positive numbers only.\")\n",
        "elif  ( num % 2 !=0):\n",
        "    print (str(num) + \" is odd.\")\n",
        "elif ( (num) % 4 == 0):\n",
        "    print (str(num) + \" is even number multiple of 4.\")\n",
        "else:\n",
        "    print(str(num) + \" is even.\")"
      ],
      "execution_count": 88,
      "outputs": [
        {
          "output_type": "stream",
          "text": [
            "Enter a number: 12\n",
            "12 is even number multiple of 4.\n"
          ],
          "name": "stdout"
        }
      ]
    }
  ]
}